{
 "cells": [
  {
   "cell_type": "markdown",
   "metadata": {},
   "source": [
    "**Подключение библиотек и скриптов**"
   ]
  },
  {
   "cell_type": "code",
   "execution_count": 0,
   "metadata": {
    "colab": {},
    "colab_type": "code",
    "id": "Tp6EyGk6FTVx"
   },
   "outputs": [],
   "source": [
    "import os\n",
    "import numpy as np\n",
    "import pandas as pd\n",
    "import matplotlib.pyplot as plt\n",
    "\n",
    "import warnings\n",
    "warnings.filterwarnings(\"ignore\")\n",
    "\n",
    "%matplotlib inline"
   ]
  },
  {
   "cell_type": "markdown",
   "metadata": {},
   "source": [
    "**Подключение к Google Drive**"
   ]
  },
  {
   "cell_type": "code",
   "execution_count": 3,
   "metadata": {
    "colab": {
     "base_uri": "https://localhost:8080/",
     "height": 34
    },
    "colab_type": "code",
    "id": "cMxfpL9Np-KI",
    "outputId": "7422354f-e4e1-4306-bcf0-3dcd34585912"
   },
   "outputs": [
    {
     "name": "stdout",
     "output_type": "stream",
     "text": [
      "Drive already mounted at /content/drive; to attempt to forcibly remount, call drive.mount(\"/content/drive\", force_remount=True).\n"
     ]
    }
   ],
   "source": [
    "from google.colab import drive\n",
    "drive.mount('/content/drive')"
   ]
  },
  {
   "cell_type": "markdown",
   "metadata": {
    "colab": {},
    "colab_type": "code",
    "id": "l7NtT9OKBHDp"
   },
   "source": [
    "Задание текущей директории через константу"
   ]
  },
  {
   "cell_type": "code",
   "execution_count": 0,
   "metadata": {
    "colab": {},
    "colab_type": "code",
    "id": "AwsOgQirC5mI"
   },
   "outputs": [],
   "source": [
    "# GDRIVE_PATH = ''\n",
    "GDRIVE_PATH = '/content/drive/My Drive/'\n",
    "os.chdir(GDRIVE_PATH)"
   ]
  },
  {
   "cell_type": "markdown",
   "metadata": {},
   "source": [
    "### Создание «сырых» датасетов"
   ]
  },
  {
   "cell_type": "markdown",
   "metadata": {},
   "source": [
    "**Загрузка содержимого скрипта**"
   ]
  },
  {
   "cell_type": "code",
   "execution_count": 0,
   "metadata": {
    "colab": {},
    "colab_type": "code",
    "id": "MrktzqF9_fVt"
   },
   "outputs": [],
   "source": [
    "from build_dataset import *"
   ]
  },
  {
   "cell_type": "markdown",
   "metadata": {},
   "source": [
    "**Задание параметров функции создания датасетов**"
   ]
  },
  {
   "cell_type": "code",
   "execution_count": 0,
   "metadata": {
    "colab": {},
    "colab_type": "code",
    "id": "NXs--0G2CvVb"
   },
   "outputs": [],
   "source": [
    "# Следует из исходных данных\n",
    "CHURNED_START_DATE = '2019-09-01' \n",
    "CHURNED_END_DATE = '2019-10-01'\n",
    "\n",
    "INTER_1 = (1, 7)\n",
    "INTER_2 = (8, 14)\n",
    "INTER_3 = (15, 21)\n",
    "INTER_4 = (22, 28)\n",
    "INTER_LIST = [INTER_1, INTER_2, INTER_3, INTER_4]"
   ]
  },
  {
   "cell_type": "markdown",
   "metadata": {},
   "source": [
    "**Создание «сырого» датасета для обучения**"
   ]
  },
  {
   "cell_type": "code",
   "execution_count": 0,
   "metadata": {
    "colab": {
     "base_uri": "https://localhost:8080/",
     "height": 323
    },
    "colab_type": "code",
    "id": "MV5sBN2-qx0v",
    "outputId": "b4236411-7890-4898-d856-11be91946c37"
   },
   "outputs": [
    {
     "name": "stdout",
     "output_type": "stream",
     "text": [
      "Run time (reading csv files): 0:02:04.951081\n",
      "NO dealing with outliers, missing values and categorical features...\n",
      "Creating dataset...\n",
      "Processing with features: ['trans_amt', 'pay_amt']\n",
      "Run time (calculating features): 0:02:29.376694\n",
      "Processing with features: ['reports_amt']\n",
      "Run time (calculating features): 0:04:01.824472\n",
      "Processing with features: ['sess_with_abusers_amt']\n",
      "Run time (calculating features): 0:08:30.107557\n",
      "Processing with features: ['session_amt', 'disconnect_amt']\n",
      "Run time (calculating features): 0:13:45.098865\n",
      "Processing with features: ['avg_min_ping']\n",
      "Run time (calculating features): 0:18:54.084105\n",
      "Processing with features: ['session_player', 'leavings_rate', 'win_rate', 'kd']\n",
      "Run time (calculating features): 0:24:07.062531\n",
      "Processing with features: ['silver_spent', 'gold_spent']\n",
      "Run time (calculating features): 0:29:36.238980\n",
      "Dataset is successfully built and saved to dataset/, run time \"build_dataset_raw\": 0:30:02.881139\n"
     ]
    }
   ],
   "source": [
    "build_dataset_raw(churned_start_date=CHURNED_START_DATE,\n",
    "                  churned_end_date=CHURNED_END_DATE,\n",
    "                  inter_list=INTER_LIST,\n",
    "                  raw_data_path='train/',\n",
    "                  dataset_path='dataset/',\n",
    "                  gdrive_path=GDRIVE_PATH,                  \n",
    "                  mode='train')"
   ]
  },
  {
   "cell_type": "markdown",
   "metadata": {},
   "source": [
    "**Создание «сырого» датасета для теста**"
   ]
  },
  {
   "cell_type": "code",
   "execution_count": 0,
   "metadata": {
    "colab": {
     "base_uri": "https://localhost:8080/",
     "height": 323
    },
    "colab_type": "code",
    "id": "Zk09j42BrV1s",
    "outputId": "30798ead-5664-4cd3-b08b-33fcb1e9c844"
   },
   "outputs": [
    {
     "name": "stdout",
     "output_type": "stream",
     "text": [
      "Run time (reading csv files): 0:00:15.193157\n",
      "NO dealing with outliers, missing values and categorical features...\n",
      "Creating dataset...\n",
      "Processing with features: ['trans_amt', 'pay_amt']\n",
      "Run time (calculating features): 0:00:17.375591\n",
      "Processing with features: ['reports_amt']\n",
      "Run time (calculating features): 0:00:25.588900\n",
      "Processing with features: ['sess_with_abusers_amt']\n",
      "Run time (calculating features): 0:00:50.332258\n",
      "Processing with features: ['session_amt', 'disconnect_amt']\n",
      "Run time (calculating features): 0:01:20.232832\n",
      "Processing with features: ['avg_min_ping']\n",
      "Run time (calculating features): 0:01:50.422345\n",
      "Processing with features: ['session_player', 'leavings_rate', 'win_rate', 'kd']\n",
      "Run time (calculating features): 0:02:19.925212\n",
      "Processing with features: ['silver_spent', 'gold_spent']\n",
      "Run time (calculating features): 0:02:50.653171\n",
      "Dataset is successfully built and saved to dataset/, run time \"build_dataset_raw\": 0:02:53.507364\n"
     ]
    }
   ],
   "source": [
    "build_dataset_raw(churned_start_date=CHURNED_START_DATE,\n",
    "                  churned_end_date=CHURNED_END_DATE,\n",
    "                  inter_list=INTER_LIST,\n",
    "                  raw_data_path='test/',\n",
    "                  dataset_path='dataset/',\n",
    "                  gdrive_path=GDRIVE_PATH,\n",
    "                  mode='test')"
   ]
  },
  {
   "cell_type": "code",
   "execution_count": 0,
   "metadata": {
    "colab": {
     "base_uri": "https://localhost:8080/",
     "height": 34
    },
    "colab_type": "code",
    "id": "Z8wlpX3nFf6S",
    "outputId": "16a48e0e-3734-4c1a-b8b0-5fefd8580cc3"
   },
   "outputs": [
    {
     "name": "stdout",
     "output_type": "stream",
     "text": [
      "(469475, 62) (44764, 61)\n"
     ]
    }
   ],
   "source": [
    "train = pd.read_csv(GDRIVE_PATH + 'dataset/dataset_raw_train.csv', sep=';')\n",
    "test = pd.read_csv(GDRIVE_PATH + 'dataset/dataset_raw_test.csv', sep=';')\n",
    "print(train.shape, test.shape)"
   ]
  },
  {
   "cell_type": "markdown",
   "metadata": {},
   "source": [
    "**Проверка датасета для обучения**"
   ]
  },
  {
   "cell_type": "code",
   "execution_count": 0,
   "metadata": {
    "colab": {
     "base_uri": "https://localhost:8080/",
     "height": 224
    },
    "colab_type": "code",
    "id": "szmgLVcPrV93",
    "outputId": "e7100a05-4145-44cc-d30a-257a4b1fd203"
   },
   "outputs": [
    {
     "data": {
      "text/html": [
       "<div>\n",
       "<style scoped>\n",
       "    .dataframe tbody tr th:only-of-type {\n",
       "        vertical-align: middle;\n",
       "    }\n",
       "\n",
       "    .dataframe tbody tr th {\n",
       "        vertical-align: top;\n",
       "    }\n",
       "\n",
       "    .dataframe thead th {\n",
       "        text-align: right;\n",
       "    }\n",
       "</style>\n",
       "<table border=\"1\" class=\"dataframe\">\n",
       "  <thead>\n",
       "    <tr style=\"text-align: right;\">\n",
       "      <th></th>\n",
       "      <th>user_id</th>\n",
       "      <th>is_churned</th>\n",
       "      <th>level</th>\n",
       "      <th>donate_total</th>\n",
       "      <th>trans_amt_1</th>\n",
       "      <th>trans_amt_2</th>\n",
       "      <th>trans_amt_3</th>\n",
       "      <th>trans_amt_4</th>\n",
       "      <th>pay_amt_1</th>\n",
       "      <th>pay_amt_2</th>\n",
       "      <th>pay_amt_3</th>\n",
       "      <th>pay_amt_4</th>\n",
       "      <th>reports_amt_1</th>\n",
       "      <th>reports_amt_2</th>\n",
       "      <th>reports_amt_3</th>\n",
       "      <th>reports_amt_4</th>\n",
       "      <th>sess_with_abusers_amt_1</th>\n",
       "      <th>sess_with_abusers_amt_2</th>\n",
       "      <th>sess_with_abusers_amt_3</th>\n",
       "      <th>sess_with_abusers_amt_4</th>\n",
       "      <th>session_amt_1</th>\n",
       "      <th>session_amt_2</th>\n",
       "      <th>session_amt_3</th>\n",
       "      <th>session_amt_4</th>\n",
       "      <th>disconnect_amt_1</th>\n",
       "      <th>disconnect_amt_2</th>\n",
       "      <th>disconnect_amt_3</th>\n",
       "      <th>disconnect_amt_4</th>\n",
       "      <th>avg_min_ping_1</th>\n",
       "      <th>avg_min_ping_2</th>\n",
       "      <th>avg_min_ping_3</th>\n",
       "      <th>avg_min_ping_4</th>\n",
       "      <th>session_player_1</th>\n",
       "      <th>session_player_2</th>\n",
       "      <th>session_player_3</th>\n",
       "      <th>session_player_4</th>\n",
       "      <th>leavings_rate_1</th>\n",
       "      <th>leavings_rate_2</th>\n",
       "      <th>leavings_rate_3</th>\n",
       "      <th>leavings_rate_4</th>\n",
       "      <th>win_rate_1</th>\n",
       "      <th>win_rate_2</th>\n",
       "      <th>win_rate_3</th>\n",
       "      <th>win_rate_4</th>\n",
       "      <th>kd_1</th>\n",
       "      <th>kd_2</th>\n",
       "      <th>kd_3</th>\n",
       "      <th>kd_4</th>\n",
       "      <th>silver_spent_1</th>\n",
       "      <th>silver_spent_2</th>\n",
       "      <th>silver_spent_3</th>\n",
       "      <th>silver_spent_4</th>\n",
       "      <th>gold_spent_1</th>\n",
       "      <th>gold_spent_2</th>\n",
       "      <th>gold_spent_3</th>\n",
       "      <th>gold_spent_4</th>\n",
       "      <th>age</th>\n",
       "      <th>gender</th>\n",
       "      <th>days_between_reg_fl</th>\n",
       "      <th>days_between_fl_df</th>\n",
       "      <th>has_return_date</th>\n",
       "      <th>has_phone_number</th>\n",
       "    </tr>\n",
       "  </thead>\n",
       "  <tbody>\n",
       "    <tr>\n",
       "      <th>0</th>\n",
       "      <td>1e7edd8347e3aaeedf8c494b11240851e3fa0ad231b8f8...</td>\n",
       "      <td>0</td>\n",
       "      <td>43</td>\n",
       "      <td>88730.00000</td>\n",
       "      <td>NaN</td>\n",
       "      <td>NaN</td>\n",
       "      <td>NaN</td>\n",
       "      <td>NaN</td>\n",
       "      <td>NaN</td>\n",
       "      <td>NaN</td>\n",
       "      <td>NaN</td>\n",
       "      <td>NaN</td>\n",
       "      <td>NaN</td>\n",
       "      <td>NaN</td>\n",
       "      <td>NaN</td>\n",
       "      <td>2.0</td>\n",
       "      <td>NaN</td>\n",
       "      <td>6.5</td>\n",
       "      <td>1.000000</td>\n",
       "      <td>6.000000</td>\n",
       "      <td>1.0</td>\n",
       "      <td>2.000000</td>\n",
       "      <td>1.000000</td>\n",
       "      <td>0.500000</td>\n",
       "      <td>0.000000</td>\n",
       "      <td>0.000000</td>\n",
       "      <td>0.0</td>\n",
       "      <td>0.500000</td>\n",
       "      <td>54.000000</td>\n",
       "      <td>31.000000</td>\n",
       "      <td>42.000000</td>\n",
       "      <td>28.000000</td>\n",
       "      <td>1321.000000</td>\n",
       "      <td>8592.000000</td>\n",
       "      <td>1352.333333</td>\n",
       "      <td>7941.500000</td>\n",
       "      <td>0.000000</td>\n",
       "      <td>0.216667</td>\n",
       "      <td>0.000000</td>\n",
       "      <td>0.166667</td>\n",
       "      <td>3.000000</td>\n",
       "      <td>0.659091</td>\n",
       "      <td>1.000000</td>\n",
       "      <td>0.650000</td>\n",
       "      <td>2.000000</td>\n",
       "      <td>2.387302</td>\n",
       "      <td>1.034877</td>\n",
       "      <td>0.952632</td>\n",
       "      <td>0.000000</td>\n",
       "      <td>40900.0</td>\n",
       "      <td>300.000000</td>\n",
       "      <td>25000.000000</td>\n",
       "      <td>0.000000</td>\n",
       "      <td>0.0</td>\n",
       "      <td>78.666667</td>\n",
       "      <td>0.000000</td>\n",
       "      <td>26.0</td>\n",
       "      <td>M</td>\n",
       "      <td>0</td>\n",
       "      <td>7</td>\n",
       "      <td>1</td>\n",
       "      <td>1</td>\n",
       "    </tr>\n",
       "    <tr>\n",
       "      <th>1</th>\n",
       "      <td>f43cac5f14e06ca039b173e14c323ac0c1fd8492f0cf08...</td>\n",
       "      <td>0</td>\n",
       "      <td>50</td>\n",
       "      <td>44149.00000</td>\n",
       "      <td>NaN</td>\n",
       "      <td>NaN</td>\n",
       "      <td>NaN</td>\n",
       "      <td>NaN</td>\n",
       "      <td>NaN</td>\n",
       "      <td>NaN</td>\n",
       "      <td>NaN</td>\n",
       "      <td>NaN</td>\n",
       "      <td>1.0</td>\n",
       "      <td>1.0</td>\n",
       "      <td>NaN</td>\n",
       "      <td>1.0</td>\n",
       "      <td>3.600000</td>\n",
       "      <td>4.8</td>\n",
       "      <td>4.666667</td>\n",
       "      <td>4.000000</td>\n",
       "      <td>1.4</td>\n",
       "      <td>1.500000</td>\n",
       "      <td>2.200000</td>\n",
       "      <td>1.428571</td>\n",
       "      <td>0.000000</td>\n",
       "      <td>0.250000</td>\n",
       "      <td>0.0</td>\n",
       "      <td>0.142857</td>\n",
       "      <td>65.666666</td>\n",
       "      <td>46.000000</td>\n",
       "      <td>48.333334</td>\n",
       "      <td>70.571429</td>\n",
       "      <td>4685.000000</td>\n",
       "      <td>5632.600000</td>\n",
       "      <td>5526.833333</td>\n",
       "      <td>5444.000000</td>\n",
       "      <td>0.018182</td>\n",
       "      <td>0.013333</td>\n",
       "      <td>0.000000</td>\n",
       "      <td>0.035714</td>\n",
       "      <td>1.123333</td>\n",
       "      <td>1.678571</td>\n",
       "      <td>2.125631</td>\n",
       "      <td>1.661905</td>\n",
       "      <td>1.375780</td>\n",
       "      <td>1.247101</td>\n",
       "      <td>1.262016</td>\n",
       "      <td>1.432277</td>\n",
       "      <td>0.000000</td>\n",
       "      <td>41480.0</td>\n",
       "      <td>6266.666667</td>\n",
       "      <td>1400.000000</td>\n",
       "      <td>0.000000</td>\n",
       "      <td>0.0</td>\n",
       "      <td>0.000000</td>\n",
       "      <td>0.000000</td>\n",
       "      <td>27.0</td>\n",
       "      <td>M</td>\n",
       "      <td>0</td>\n",
       "      <td>37</td>\n",
       "      <td>1</td>\n",
       "      <td>1</td>\n",
       "    </tr>\n",
       "    <tr>\n",
       "      <th>2</th>\n",
       "      <td>cc7450e0b182947998534ef137b05e07109c100aced0b6...</td>\n",
       "      <td>0</td>\n",
       "      <td>37</td>\n",
       "      <td>44931.00000</td>\n",
       "      <td>1.0</td>\n",
       "      <td>1.0</td>\n",
       "      <td>NaN</td>\n",
       "      <td>2.0</td>\n",
       "      <td>63.000000</td>\n",
       "      <td>350.0</td>\n",
       "      <td>NaN</td>\n",
       "      <td>130.0</td>\n",
       "      <td>1.0</td>\n",
       "      <td>1.0</td>\n",
       "      <td>1.0</td>\n",
       "      <td>2.0</td>\n",
       "      <td>4.166667</td>\n",
       "      <td>8.2</td>\n",
       "      <td>8.000000</td>\n",
       "      <td>8.571429</td>\n",
       "      <td>1.0</td>\n",
       "      <td>1.857143</td>\n",
       "      <td>1.714286</td>\n",
       "      <td>1.857143</td>\n",
       "      <td>0.857143</td>\n",
       "      <td>0.857143</td>\n",
       "      <td>1.0</td>\n",
       "      <td>1.142857</td>\n",
       "      <td>60.972222</td>\n",
       "      <td>49.161904</td>\n",
       "      <td>63.061508</td>\n",
       "      <td>63.773809</td>\n",
       "      <td>4710.166667</td>\n",
       "      <td>6543.400000</td>\n",
       "      <td>6317.000000</td>\n",
       "      <td>7550.571429</td>\n",
       "      <td>0.066667</td>\n",
       "      <td>0.096667</td>\n",
       "      <td>0.064935</td>\n",
       "      <td>0.077063</td>\n",
       "      <td>0.684722</td>\n",
       "      <td>0.653571</td>\n",
       "      <td>0.291667</td>\n",
       "      <td>0.518254</td>\n",
       "      <td>1.075181</td>\n",
       "      <td>1.364430</td>\n",
       "      <td>0.872192</td>\n",
       "      <td>0.938326</td>\n",
       "      <td>14471.428571</td>\n",
       "      <td>31400.0</td>\n",
       "      <td>5714.285714</td>\n",
       "      <td>414.285714</td>\n",
       "      <td>104.285714</td>\n",
       "      <td>0.0</td>\n",
       "      <td>1.428571</td>\n",
       "      <td>2.857143</td>\n",
       "      <td>21.0</td>\n",
       "      <td>M</td>\n",
       "      <td>0</td>\n",
       "      <td>153</td>\n",
       "      <td>1</td>\n",
       "      <td>1</td>\n",
       "    </tr>\n",
       "    <tr>\n",
       "      <th>3</th>\n",
       "      <td>5c583d57a1e9e53341fc239d41fb6983e667a04b1b4d94...</td>\n",
       "      <td>0</td>\n",
       "      <td>20</td>\n",
       "      <td>37538.00000</td>\n",
       "      <td>NaN</td>\n",
       "      <td>NaN</td>\n",
       "      <td>NaN</td>\n",
       "      <td>NaN</td>\n",
       "      <td>NaN</td>\n",
       "      <td>NaN</td>\n",
       "      <td>NaN</td>\n",
       "      <td>NaN</td>\n",
       "      <td>NaN</td>\n",
       "      <td>NaN</td>\n",
       "      <td>NaN</td>\n",
       "      <td>NaN</td>\n",
       "      <td>NaN</td>\n",
       "      <td>NaN</td>\n",
       "      <td>NaN</td>\n",
       "      <td>NaN</td>\n",
       "      <td>NaN</td>\n",
       "      <td>NaN</td>\n",
       "      <td>NaN</td>\n",
       "      <td>NaN</td>\n",
       "      <td>NaN</td>\n",
       "      <td>NaN</td>\n",
       "      <td>NaN</td>\n",
       "      <td>NaN</td>\n",
       "      <td>NaN</td>\n",
       "      <td>NaN</td>\n",
       "      <td>NaN</td>\n",
       "      <td>NaN</td>\n",
       "      <td>NaN</td>\n",
       "      <td>NaN</td>\n",
       "      <td>NaN</td>\n",
       "      <td>NaN</td>\n",
       "      <td>NaN</td>\n",
       "      <td>NaN</td>\n",
       "      <td>NaN</td>\n",
       "      <td>NaN</td>\n",
       "      <td>NaN</td>\n",
       "      <td>NaN</td>\n",
       "      <td>NaN</td>\n",
       "      <td>NaN</td>\n",
       "      <td>NaN</td>\n",
       "      <td>NaN</td>\n",
       "      <td>NaN</td>\n",
       "      <td>NaN</td>\n",
       "      <td>NaN</td>\n",
       "      <td>NaN</td>\n",
       "      <td>NaN</td>\n",
       "      <td>NaN</td>\n",
       "      <td>NaN</td>\n",
       "      <td>NaN</td>\n",
       "      <td>NaN</td>\n",
       "      <td>NaN</td>\n",
       "      <td>22.0</td>\n",
       "      <td>M</td>\n",
       "      <td>0</td>\n",
       "      <td>156</td>\n",
       "      <td>1</td>\n",
       "      <td>1</td>\n",
       "    </tr>\n",
       "    <tr>\n",
       "      <th>4</th>\n",
       "      <td>9bbaa1a2501e8dc83cf6c0c54ef139c75c99de09dcf4dc...</td>\n",
       "      <td>0</td>\n",
       "      <td>10</td>\n",
       "      <td>4100.97998</td>\n",
       "      <td>1.0</td>\n",
       "      <td>NaN</td>\n",
       "      <td>NaN</td>\n",
       "      <td>NaN</td>\n",
       "      <td>66.580002</td>\n",
       "      <td>NaN</td>\n",
       "      <td>NaN</td>\n",
       "      <td>NaN</td>\n",
       "      <td>NaN</td>\n",
       "      <td>NaN</td>\n",
       "      <td>2.0</td>\n",
       "      <td>NaN</td>\n",
       "      <td>4.250000</td>\n",
       "      <td>2.0</td>\n",
       "      <td>4.000000</td>\n",
       "      <td>1.400000</td>\n",
       "      <td>0.6</td>\n",
       "      <td>1.500000</td>\n",
       "      <td>1.500000</td>\n",
       "      <td>1.500000</td>\n",
       "      <td>0.800000</td>\n",
       "      <td>0.250000</td>\n",
       "      <td>0.5</td>\n",
       "      <td>0.250000</td>\n",
       "      <td>24.900000</td>\n",
       "      <td>24.500000</td>\n",
       "      <td>24.833333</td>\n",
       "      <td>24.733333</td>\n",
       "      <td>4124.400000</td>\n",
       "      <td>2755.833333</td>\n",
       "      <td>3776.800000</td>\n",
       "      <td>1949.000000</td>\n",
       "      <td>0.050000</td>\n",
       "      <td>0.305556</td>\n",
       "      <td>0.054286</td>\n",
       "      <td>0.111111</td>\n",
       "      <td>1.113333</td>\n",
       "      <td>0.733333</td>\n",
       "      <td>1.316667</td>\n",
       "      <td>1.000000</td>\n",
       "      <td>9.825229</td>\n",
       "      <td>10.025196</td>\n",
       "      <td>3.536477</td>\n",
       "      <td>10.131818</td>\n",
       "      <td>0.000000</td>\n",
       "      <td>0.0</td>\n",
       "      <td>1666.666667</td>\n",
       "      <td>9838.000000</td>\n",
       "      <td>0.000000</td>\n",
       "      <td>0.0</td>\n",
       "      <td>0.000000</td>\n",
       "      <td>0.000000</td>\n",
       "      <td>2.0</td>\n",
       "      <td>M</td>\n",
       "      <td>0</td>\n",
       "      <td>21</td>\n",
       "      <td>1</td>\n",
       "      <td>1</td>\n",
       "    </tr>\n",
       "  </tbody>\n",
       "</table>\n",
       "</div>"
      ],
      "text/plain": [
       "                                             user_id  ...  has_phone_number\n",
       "0  1e7edd8347e3aaeedf8c494b11240851e3fa0ad231b8f8...  ...                 1\n",
       "1  f43cac5f14e06ca039b173e14c323ac0c1fd8492f0cf08...  ...                 1\n",
       "2  cc7450e0b182947998534ef137b05e07109c100aced0b6...  ...                 1\n",
       "3  5c583d57a1e9e53341fc239d41fb6983e667a04b1b4d94...  ...                 1\n",
       "4  9bbaa1a2501e8dc83cf6c0c54ef139c75c99de09dcf4dc...  ...                 1\n",
       "\n",
       "[5 rows x 62 columns]"
      ]
     },
     "execution_count": 9,
     "metadata": {
      "tags": []
     },
     "output_type": "execute_result"
    }
   ],
   "source": [
    "train.head()"
   ]
  },
  {
   "cell_type": "code",
   "execution_count": 0,
   "metadata": {
    "colab": {
     "base_uri": "https://localhost:8080/",
     "height": 1000
    },
    "colab_type": "code",
    "id": "DV6jGX7crV6L",
    "outputId": "de240053-0d04-48fd-879a-8c0fc932e87d"
   },
   "outputs": [
    {
     "name": "stdout",
     "output_type": "stream",
     "text": [
      "<class 'pandas.core.frame.DataFrame'>\n",
      "RangeIndex: 469475 entries, 0 to 469474\n",
      "Data columns (total 62 columns):\n",
      " #   Column                   Non-Null Count   Dtype  \n",
      "---  ------                   --------------   -----  \n",
      " 0   user_id                  469475 non-null  object \n",
      " 1   is_churned               469475 non-null  int64  \n",
      " 2   level                    469475 non-null  int64  \n",
      " 3   donate_total             469475 non-null  float64\n",
      " 4   trans_amt_1              67485 non-null   float64\n",
      " 5   trans_amt_2              60928 non-null   float64\n",
      " 6   trans_amt_3              56720 non-null   float64\n",
      " 7   trans_amt_4              57896 non-null   float64\n",
      " 8   pay_amt_1                67485 non-null   float64\n",
      " 9   pay_amt_2                60928 non-null   float64\n",
      " 10  pay_amt_3                56720 non-null   float64\n",
      " 11  pay_amt_4                57896 non-null   float64\n",
      " 12  reports_amt_1            144916 non-null  float64\n",
      " 13  reports_amt_2            145909 non-null  float64\n",
      " 14  reports_amt_3            147492 non-null  float64\n",
      " 15  reports_amt_4            147503 non-null  float64\n",
      " 16  sess_with_abusers_amt_1  261313 non-null  float64\n",
      " 17  sess_with_abusers_amt_2  259432 non-null  float64\n",
      " 18  sess_with_abusers_amt_3  261064 non-null  float64\n",
      " 19  sess_with_abusers_amt_4  263303 non-null  float64\n",
      " 20  session_amt_1            293492 non-null  float64\n",
      " 21  session_amt_2            286263 non-null  float64\n",
      " 22  session_amt_3            285912 non-null  float64\n",
      " 23  session_amt_4            286945 non-null  float64\n",
      " 24  disconnect_amt_1         293492 non-null  float64\n",
      " 25  disconnect_amt_2         286263 non-null  float64\n",
      " 26  disconnect_amt_3         285912 non-null  float64\n",
      " 27  disconnect_amt_4         286945 non-null  float64\n",
      " 28  avg_min_ping_1           293275 non-null  float64\n",
      " 29  avg_min_ping_2           286095 non-null  float64\n",
      " 30  avg_min_ping_3           285812 non-null  float64\n",
      " 31  avg_min_ping_4           287043 non-null  float64\n",
      " 32  session_player_1         280518 non-null  float64\n",
      " 33  session_player_2         275710 non-null  float64\n",
      " 34  session_player_3         276624 non-null  float64\n",
      " 35  session_player_4         278314 non-null  float64\n",
      " 36  leavings_rate_1          280518 non-null  float64\n",
      " 37  leavings_rate_2          275710 non-null  float64\n",
      " 38  leavings_rate_3          276624 non-null  float64\n",
      " 39  leavings_rate_4          278314 non-null  float64\n",
      " 40  win_rate_1               280518 non-null  float64\n",
      " 41  win_rate_2               275710 non-null  float64\n",
      " 42  win_rate_3               276624 non-null  float64\n",
      " 43  win_rate_4               278314 non-null  float64\n",
      " 44  kd_1                     280518 non-null  float64\n",
      " 45  kd_2                     275710 non-null  float64\n",
      " 46  kd_3                     276624 non-null  float64\n",
      " 47  kd_4                     278314 non-null  float64\n",
      " 48  silver_spent_1           300355 non-null  float64\n",
      " 49  silver_spent_2           293676 non-null  float64\n",
      " 50  silver_spent_3           292993 non-null  float64\n",
      " 51  silver_spent_4           291965 non-null  float64\n",
      " 52  gold_spent_1             300355 non-null  float64\n",
      " 53  gold_spent_2             293676 non-null  float64\n",
      " 54  gold_spent_3             292993 non-null  float64\n",
      " 55  gold_spent_4             291965 non-null  float64\n",
      " 56  age                      390924 non-null  float64\n",
      " 57  gender                   407337 non-null  object \n",
      " 58  days_between_reg_fl      469475 non-null  int64  \n",
      " 59  days_between_fl_df       469475 non-null  int64  \n",
      " 60  has_return_date          469475 non-null  int64  \n",
      " 61  has_phone_number         469475 non-null  int64  \n",
      "dtypes: float64(54), int64(6), object(2)\n",
      "memory usage: 222.1+ MB\n"
     ]
    }
   ],
   "source": [
    "train.info()"
   ]
  },
  {
   "cell_type": "markdown",
   "metadata": {},
   "source": [
    "### Обработка «сырых» датасетов"
   ]
  },
  {
   "cell_type": "markdown",
   "metadata": {},
   "source": [
    "**Загрузка содержимого скрипта**"
   ]
  },
  {
   "cell_type": "code",
   "execution_count": 0,
   "metadata": {
    "colab": {},
    "colab_type": "code",
    "id": "qCYFhyILuKAI"
   },
   "outputs": [],
   "source": [
    "from prepare_dataset import *"
   ]
  },
  {
   "cell_type": "markdown",
   "metadata": {},
   "source": [
    "**Примеры работы функции *prepare_dataset* на «сырых» датасетах для обучения и теста**"
   ]
  },
  {
   "cell_type": "code",
   "execution_count": 0,
   "metadata": {
    "colab": {
     "base_uri": "https://localhost:8080/",
     "height": 153
    },
    "colab_type": "code",
    "id": "X-N6DLcVuKP4",
    "outputId": "5b77c3c8-fcd0-42e8-cb0b-4aaeb3bea5af"
   },
   "outputs": [
    {
     "name": "stdout",
     "output_type": "stream",
     "text": [
      "\n",
      "TRAIN\n",
      "Dealing with missing values, outliers, categorical features...\n",
      "Dataset is successfully prepared and saved to dataset/, run time (dealing with bad values): 0:00:29.498037\n",
      "\n",
      "TEST\n",
      "Dealing with missing values, outliers, categorical features...\n",
      "Dataset is successfully prepared and saved to dataset/, run time (dealing with bad values): 0:00:03.368996\n"
     ]
    }
   ],
   "source": [
    "prepare_dataset(train, dataset_type='train', inter_list=INTER_LIST, gdrive_path=GDRIVE_PATH)\n",
    "prepare_dataset(test, dataset_type='test', inter_list=INTER_LIST, gdrive_path=GDRIVE_PATH)"
   ]
  },
  {
   "cell_type": "markdown",
   "metadata": {
    "colab": {},
    "colab_type": "code",
    "id": "bO54anix0vf2"
   },
   "source": [
    "**Проверка датасета для обучения**"
   ]
  },
  {
   "cell_type": "code",
   "execution_count": 0,
   "metadata": {
    "colab": {
     "base_uri": "https://localhost:8080/",
     "height": 1000
    },
    "colab_type": "code",
    "id": "QbL7vssp1eld",
    "outputId": "ce667976-6475-4f3b-8c0d-bab484fd3abb"
   },
   "outputs": [
    {
     "name": "stdout",
     "output_type": "stream",
     "text": [
      "<class 'pandas.core.frame.DataFrame'>\n",
      "RangeIndex: 469475 entries, 0 to 469474\n",
      "Data columns (total 62 columns):\n",
      " #   Column                   Non-Null Count   Dtype  \n",
      "---  ------                   --------------   -----  \n",
      " 0   user_id                  469475 non-null  object \n",
      " 1   is_churned               469475 non-null  int64  \n",
      " 2   level                    469475 non-null  int64  \n",
      " 3   donate_total             469475 non-null  float64\n",
      " 4   trans_amt_1              469475 non-null  float64\n",
      " 5   trans_amt_2              469475 non-null  float64\n",
      " 6   trans_amt_3              469475 non-null  float64\n",
      " 7   trans_amt_4              469475 non-null  float64\n",
      " 8   pay_amt_1                469475 non-null  float64\n",
      " 9   pay_amt_2                469475 non-null  float64\n",
      " 10  pay_amt_3                469475 non-null  float64\n",
      " 11  pay_amt_4                469475 non-null  float64\n",
      " 12  reports_amt_1            469475 non-null  float64\n",
      " 13  reports_amt_2            469475 non-null  float64\n",
      " 14  reports_amt_3            469475 non-null  float64\n",
      " 15  reports_amt_4            469475 non-null  float64\n",
      " 16  sess_with_abusers_amt_1  469475 non-null  float64\n",
      " 17  sess_with_abusers_amt_2  469475 non-null  float64\n",
      " 18  sess_with_abusers_amt_3  469475 non-null  float64\n",
      " 19  sess_with_abusers_amt_4  469475 non-null  float64\n",
      " 20  session_amt_1            469475 non-null  float64\n",
      " 21  session_amt_2            469475 non-null  float64\n",
      " 22  session_amt_3            469475 non-null  float64\n",
      " 23  session_amt_4            469475 non-null  float64\n",
      " 24  disconnect_amt_1         469475 non-null  float64\n",
      " 25  disconnect_amt_2         469475 non-null  float64\n",
      " 26  disconnect_amt_3         469475 non-null  float64\n",
      " 27  disconnect_amt_4         469475 non-null  float64\n",
      " 28  avg_min_ping_1           469475 non-null  float64\n",
      " 29  avg_min_ping_2           469475 non-null  float64\n",
      " 30  avg_min_ping_3           469475 non-null  float64\n",
      " 31  avg_min_ping_4           469475 non-null  float64\n",
      " 32  session_player_1         469475 non-null  float64\n",
      " 33  session_player_2         469475 non-null  float64\n",
      " 34  session_player_3         469475 non-null  float64\n",
      " 35  session_player_4         469475 non-null  float64\n",
      " 36  leavings_rate_1          469475 non-null  float64\n",
      " 37  leavings_rate_2          469475 non-null  float64\n",
      " 38  leavings_rate_3          469475 non-null  float64\n",
      " 39  leavings_rate_4          469475 non-null  float64\n",
      " 40  win_rate_1               469475 non-null  float64\n",
      " 41  win_rate_2               469475 non-null  float64\n",
      " 42  win_rate_3               469475 non-null  float64\n",
      " 43  win_rate_4               469475 non-null  float64\n",
      " 44  kd_1                     469475 non-null  float64\n",
      " 45  kd_2                     469475 non-null  float64\n",
      " 46  kd_3                     469475 non-null  float64\n",
      " 47  kd_4                     469475 non-null  float64\n",
      " 48  silver_spent_1           469475 non-null  float64\n",
      " 49  silver_spent_2           469475 non-null  float64\n",
      " 50  silver_spent_3           469475 non-null  float64\n",
      " 51  silver_spent_4           469475 non-null  float64\n",
      " 52  gold_spent_1             469475 non-null  float64\n",
      " 53  gold_spent_2             469475 non-null  float64\n",
      " 54  gold_spent_3             469475 non-null  float64\n",
      " 55  gold_spent_4             469475 non-null  float64\n",
      " 56  age                      469475 non-null  float64\n",
      " 57  gender                   469475 non-null  float64\n",
      " 58  days_between_reg_fl      469475 non-null  int64  \n",
      " 59  days_between_fl_df       469475 non-null  int64  \n",
      " 60  has_return_date          469475 non-null  int64  \n",
      " 61  has_phone_number         469475 non-null  int64  \n",
      "dtypes: float64(55), int64(6), object(1)\n",
      "memory usage: 222.1+ MB\n"
     ]
    }
   ],
   "source": [
    "train_new = pd.read_csv(GDRIVE_PATH + 'dataset/dataset_train.csv', sep=';')\n",
    "train_new.info()"
   ]
  },
  {
   "cell_type": "code",
   "execution_count": 0,
   "metadata": {
    "colab": {
     "base_uri": "https://localhost:8080/",
     "height": 68
    },
    "colab_type": "code",
    "id": "9Vf08clDgof7",
    "outputId": "05998178-82e4-49d0-e0e9-ad240cb6e2d3"
   },
   "outputs": [
    {
     "data": {
      "text/plain": [
       "0    455650\n",
       "1     13825\n",
       "Name: is_churned, dtype: int64"
      ]
     },
     "execution_count": 15,
     "metadata": {
      "tags": []
     },
     "output_type": "execute_result"
    }
   ],
   "source": [
    "train_new['is_churned'].value_counts()"
   ]
  },
  {
   "cell_type": "markdown",
   "metadata": {},
   "source": [
    "### Обучение объекта класса *WOETransformer* (Weight of Evidence) и логистической регресии"
   ]
  },
  {
   "cell_type": "markdown",
   "metadata": {
    "colab": {},
    "colab_type": "code",
    "id": "Bpe2CZrzvWve"
   },
   "source": [
    "**Загрузка «сырого» датасета для обучения и формирование из него данных**"
   ]
  },
  {
   "cell_type": "code",
   "execution_count": 0,
   "metadata": {
    "colab": {},
    "colab_type": "code",
    "id": "rXmLOkvnsyOt"
   },
   "outputs": [],
   "source": [
    "dataset_raw_train = pd.read_csv(GDRIVE_PATH + 'dataset/dataset_raw_train.csv', sep=';')\n",
    "X_raw = dataset_raw_train.drop(['user_id', 'is_churned'], axis=1)\n",
    "y_raw = dataset_raw_train['is_churned']"
   ]
  },
  {
   "cell_type": "markdown",
   "metadata": {},
   "source": [
    "**Загрузка содержимого скрипта**"
   ]
  },
  {
   "cell_type": "code",
   "execution_count": 0,
   "metadata": {
    "colab": {},
    "colab_type": "code",
    "id": "MHc3aESHgSVd"
   },
   "outputs": [],
   "source": [
    "from train_model import *"
   ]
  },
  {
   "cell_type": "markdown",
   "metadata": {},
   "source": [
    "**Описание работы функции *train_model*:**\n",
    " - Разбиение данных ($X$ и $y$) на обучающую и валидационную выборки;\n",
    " - Создание объекта класса *WOETransformer*;\n",
    " - Обучение этого объекта на обучающей выборки с её преобразованием;\n",
    " - Обучение логистической регрессии (*LogisticRegressionCV*) на преобразованной обучающей выборке - с подбором регуляризующего коэффициента на 5 фолдах и с максимизацией метрики $F_{1}$;\n",
    " - Преобразование валидационной выборки обученным объектом класса *WOETransformer*;\n",
    " - Получение предсказаний на преобразованной валидационной выборке и расчет метрик;\n",
    " - Визуализация калибровки порога вероятностей функцией из одного из предыдущих курсов;\n",
    " - Ввод значения порога вероятности, исходя из анализа графиков (в данном случае $0.8$);\n",
    " - Вывод метрик целевого класса с учетом введенного порога;\n",
    " - Сохранение в pickle-файлы значения порога и обученных объектов *WOETransformer* и *LogisticRegressionCV*."
   ]
  },
  {
   "cell_type": "code",
   "execution_count": 0,
   "metadata": {
    "colab": {
     "base_uri": "https://localhost:8080/",
     "height": 1000
    },
    "colab_type": "code",
    "id": "y3h0IEXMgSvc",
    "outputId": "d9405b0f-47f1-475f-c4ef-fcd8c8b68d67"
   },
   "outputs": [
    {
     "name": "stdout",
     "output_type": "stream",
     "text": [
      "Splitting data on train and valid: 0:00:00.409396\n",
      "Train WOE transformation...\n",
      "Run time (calculating IV): 0:00:31.554677\n",
      "Run time (gathering WOE by vars): 0:00:31.750264\n",
      "Run time (encoding vars with WOE): 0:08:01.927882\n",
      "Run time (oversampling with SMOTE): 0:00:05.424756\n",
      "Fitting LogisticRegressionCV...\n",
      "Run time (fitting and CV model): 0:12:20.707795\n",
      "Valid WOE transformation...\n",
      "Run time (encoding vars with WOE): 0:00:51.344701\n",
      "\n",
      "VALID METRICS\n",
      "\n",
      "Precision: 0.18597382301230708\n",
      "Recall: 0.6883586406362979\n",
      "F1: 0.29283297446939405\n",
      "Log Loss: 0.25429515741617287\n",
      "ROC AUC: 0.8970184187781609\n",
      "\n",
      "\n"
     ]
    },
    {
     "data": {
      "image/png": "[encoded data removed]",
      "text/plain": [
       "<Figure size 1080x360 with 2 Axes>"
      ]
     },
     "metadata": {
      "tags": []
     },
     "output_type": "display_data"
    },
    {
     "name": "stdout",
     "output_type": "stream",
     "text": [
      "Threshold value: 0.8\n",
      "\n",
      "CLASSIFICATION REPORT WITH THRESHOLD\n",
      "\n",
      "              precision    recall  f1-score   support\n",
      "\n",
      "           0       0.98      0.97      0.98     45565\n",
      "           1       0.32      0.43      0.37      1383\n",
      "\n",
      "    accuracy                           0.96     46948\n",
      "   macro avg       0.65      0.70      0.67     46948\n",
      "weighted avg       0.96      0.96      0.96     46948\n",
      "\n",
      "Run time (saving logit, woe_transformer and threshold): 0:14:10.703213\n"
     ]
    }
   ],
   "source": [
    "train_model(X_raw, y_raw, random_state=42, gdrive_path=GDRIVE_PATH)"
   ]
  },
  {
   "cell_type": "markdown",
   "metadata": {},
   "source": [
    "### Ответ на «сыром» датасете для теста"
   ]
  },
  {
   "cell_type": "markdown",
   "metadata": {},
   "source": [
    "**Загрузка «сырого» датасета для теста и формирование из него данных**"
   ]
  },
  {
   "cell_type": "code",
   "execution_count": 0,
   "metadata": {
    "colab": {},
    "colab_type": "code",
    "id": "pvhvM5-G1qPn"
   },
   "outputs": [],
   "source": [
    "dataset_raw_test = pd.read_csv(GDRIVE_PATH + 'dataset/dataset_raw_test.csv', sep=';')\n",
    "X_test = dataset_raw_test.drop(['user_id'], axis=1)"
   ]
  },
  {
   "cell_type": "markdown",
   "metadata": {},
   "source": [
    "**Загрузка содержимого скрипта**"
   ]
  },
  {
   "cell_type": "code",
   "execution_count": 0,
   "metadata": {
    "colab": {},
    "colab_type": "code",
    "id": "Q6TDZKMTgSQ-"
   },
   "outputs": [],
   "source": [
    "from make_prediction import *"
   ]
  },
  {
   "cell_type": "markdown",
   "metadata": {},
   "source": [
    "**Описание работы функции *make_prediction*:**\n",
    " - Загрузка из pickle-файлов значения порога и обученных объектов *WOETransformer* и *LogisticRegressionCV*;\n",
    " - Преобразование тестовых данных обученным объектом класса *WOETransformer*;\n",
    " - Получение предсказания с калибровкой и запись его в файл."
   ]
  },
  {
   "cell_type": "code",
   "execution_count": 11,
   "metadata": {
    "colab": {
     "base_uri": "https://localhost:8080/",
     "height": 102
    },
    "colab_type": "code",
    "id": "O3Ty_sXH1qct",
    "outputId": "efbc89b1-e3b7-4ab6-b1bb-bb48e20b7c5b"
   },
   "outputs": [
    {
     "name": "stdout",
     "output_type": "stream",
     "text": [
      "Run time (loading logit, woe_transformer and threshold): 0:00:02.023111\n",
      "Test WOE transformation...\n",
      "Run time (encoding vars with WOE): 0:00:52.936634\n",
      "Taking predictions...\n",
      "Predictions are successfully saved to /content/drive/My Drive/dataset/predictions.csv\n"
     ]
    }
   ],
   "source": [
    "make_prediction(X_test, saving_path='dataset/', gdrive_path=GDRIVE_PATH)"
   ]
  },
  {
   "cell_type": "markdown",
   "metadata": {},
   "source": [
    "**Добавление к предсказаниям идентификаторов пользователей и запись в итоговый файл:**"
   ]
  },
  {
   "cell_type": "code",
   "execution_count": 21,
   "metadata": {
    "colab": {
     "base_uri": "https://localhost:8080/",
     "height": 204
    },
    "colab_type": "code",
    "id": "5JVgbRu5hCyp",
    "outputId": "67c542d8-876b-4f2e-e184-5cec4829c927"
   },
   "outputs": [
    {
     "data": {
      "text/html": [
       "<div>\n",
       "<style scoped>\n",
       "    .dataframe tbody tr th:only-of-type {\n",
       "        vertical-align: middle;\n",
       "    }\n",
       "\n",
       "    .dataframe tbody tr th {\n",
       "        vertical-align: top;\n",
       "    }\n",
       "\n",
       "    .dataframe thead th {\n",
       "        text-align: right;\n",
       "    }\n",
       "</style>\n",
       "<table border=\"1\" class=\"dataframe\">\n",
       "  <thead>\n",
       "    <tr style=\"text-align: right;\">\n",
       "      <th></th>\n",
       "      <th>user_id</th>\n",
       "      <th>is_churned</th>\n",
       "    </tr>\n",
       "  </thead>\n",
       "  <tbody>\n",
       "    <tr>\n",
       "      <th>0</th>\n",
       "      <td>0bda14606761d90210e6e5f7432b5a5c2f7cbda6d5144e...</td>\n",
       "      <td>0</td>\n",
       "    </tr>\n",
       "    <tr>\n",
       "      <th>1</th>\n",
       "      <td>beaabc52f2f369d27d4b4132d6629e475f2117568a9041...</td>\n",
       "      <td>0</td>\n",
       "    </tr>\n",
       "    <tr>\n",
       "      <th>2</th>\n",
       "      <td>969daefac09c760c75e0a131d4397ef43278151ead9232...</td>\n",
       "      <td>0</td>\n",
       "    </tr>\n",
       "    <tr>\n",
       "      <th>3</th>\n",
       "      <td>2f8a302052389f20fbe09e144c60917e5495312f7a83bc...</td>\n",
       "      <td>0</td>\n",
       "    </tr>\n",
       "    <tr>\n",
       "      <th>4</th>\n",
       "      <td>10bf851621a8a69b0900f3b5f3c0904a45f2b952e6e2d4...</td>\n",
       "      <td>0</td>\n",
       "    </tr>\n",
       "  </tbody>\n",
       "</table>\n",
       "</div>"
      ],
      "text/plain": [
       "                                             user_id  is_churned\n",
       "0  0bda14606761d90210e6e5f7432b5a5c2f7cbda6d5144e...           0\n",
       "1  beaabc52f2f369d27d4b4132d6629e475f2117568a9041...           0\n",
       "2  969daefac09c760c75e0a131d4397ef43278151ead9232...           0\n",
       "3  2f8a302052389f20fbe09e144c60917e5495312f7a83bc...           0\n",
       "4  10bf851621a8a69b0900f3b5f3c0904a45f2b952e6e2d4...           0"
      ]
     },
     "execution_count": 21,
     "metadata": {
      "tags": []
     },
     "output_type": "execute_result"
    }
   ],
   "source": [
    "predictions = pd.read_csv(GDRIVE_PATH + 'dataset/predictions.csv', index_col=[0], sep=';')\n",
    "\n",
    "answers = pd.concat([dataset_raw_test['user_id'], predictions], axis=1)\n",
    "answers.head()"
   ]
  },
  {
   "cell_type": "code",
   "execution_count": 0,
   "metadata": {
    "colab": {},
    "colab_type": "code",
    "id": "GZpGQ0KszTE4"
   },
   "outputs": [],
   "source": [
    "answers.to_csv(GDRIVE_PATH + 'dataset/answers.csv', sep=';')"
   ]
  },
  {
   "cell_type": "markdown",
   "metadata": {
    "colab": {},
    "colab_type": "code",
    "id": "BCwNUPvBSYIL"
   },
   "source": [
    " "
   ]
  }
 ],
 "metadata": {
  "accelerator": "GPU",
  "colab": {
   "collapsed_sections": [],
   "name": "prod_prepare.ipynb",
   "provenance": []
  },
  "kernelspec": {
   "display_name": "Python 3",
   "language": "python",
   "name": "python3"
  },
  "language_info": {
   "codemirror_mode": {
    "name": "ipython",
    "version": 3
   },
   "file_extension": ".py",
   "mimetype": "text/x-python",
   "name": "python",
   "nbconvert_exporter": "python",
   "pygments_lexer": "ipython3",
   "version": "3.7.3"
  }
 },
 "nbformat": 4,
 "nbformat_minor": 1
}
