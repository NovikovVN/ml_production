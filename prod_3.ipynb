{
 "cells": [
  {
   "cell_type": "markdown",
   "metadata": {},
   "source": [
    "**Подключение библиотек и скриптов**"
   ]
  },
  {
   "cell_type": "code",
   "execution_count": 0,
   "metadata": {
    "colab": {},
    "colab_type": "code",
    "id": "87DKiCQS89mY"
   },
   "outputs": [],
   "source": [
    "import pandas as pd\n",
    "import numpy as np\n",
    "import xgboost as xgb\n",
    "from matplotlib import pyplot as plt\n",
    "import warnings\n",
    "warnings.filterwarnings(\"ignore\")\n",
    "\n",
    "from scipy import interp\n",
    "from imblearn.over_sampling import SMOTE\n",
    "from sklearn.preprocessing import MinMaxScaler\n",
    "from sklearn.linear_model import LogisticRegression\n",
    "from mpl_toolkits.axes_grid1 import make_axes_locatable\n",
    "from sklearn.model_selection import StratifiedKFold, train_test_split\n",
    "from sklearn.feature_selection import chi2, mutual_info_classif, RFECV\n",
    "from sklearn.metrics import precision_score, recall_score, f1_score, precision_recall_curve, roc_curve, auc, \\\n",
    "                            log_loss, roc_auc_score, average_precision_score, confusion_matrix"
   ]
  },
  {
   "cell_type": "markdown",
   "metadata": {},
   "source": [
    "**Подключение к Google Drive**"
   ]
  },
  {
   "cell_type": "code",
   "execution_count": 0,
   "metadata": {
    "colab": {
     "base_uri": "https://localhost:8080/",
     "height": 34
    },
    "colab_type": "code",
    "id": "Q0MHZVmV9AqX",
    "outputId": "80ed7e28-1827-4407-d182-7835d711e79a"
   },
   "outputs": [
    {
     "name": "stdout",
     "output_type": "stream",
     "text": [
      "Drive already mounted at /content/drive; to attempt to forcibly remount, call drive.mount(\"/content/drive\", force_remount=True).\n"
     ]
    }
   ],
   "source": [
    "from google.colab import drive\n",
    "drive.mount('/content/drive')"
   ]
  },
  {
   "cell_type": "markdown",
   "metadata": {},
   "source": [
    "**Загрузка данных для обучения**"
   ]
  },
  {
   "cell_type": "code",
   "execution_count": 0,
   "metadata": {
    "colab": {
     "base_uri": "https://localhost:8080/",
     "height": 224
    },
    "colab_type": "code",
    "id": "ElrW0zzNEkT4",
    "outputId": "385fbd0e-a6a5-4e23-848e-90bf970f51c5"
   },
   "outputs": [
    {
     "data": {
      "text/html": [
       "<div>\n",
       "<style scoped>\n",
       "    .dataframe tbody tr th:only-of-type {\n",
       "        vertical-align: middle;\n",
       "    }\n",
       "\n",
       "    .dataframe tbody tr th {\n",
       "        vertical-align: top;\n",
       "    }\n",
       "\n",
       "    .dataframe thead th {\n",
       "        text-align: right;\n",
       "    }\n",
       "</style>\n",
       "<table border=\"1\" class=\"dataframe\">\n",
       "  <thead>\n",
       "    <tr style=\"text-align: right;\">\n",
       "      <th></th>\n",
       "      <th>user_id</th>\n",
       "      <th>is_churned</th>\n",
       "      <th>level</th>\n",
       "      <th>donate_total</th>\n",
       "      <th>trans_amt_1</th>\n",
       "      <th>trans_amt_2</th>\n",
       "      <th>trans_amt_3</th>\n",
       "      <th>trans_amt_4</th>\n",
       "      <th>pay_amt_1</th>\n",
       "      <th>pay_amt_2</th>\n",
       "      <th>pay_amt_3</th>\n",
       "      <th>pay_amt_4</th>\n",
       "      <th>reports_amt_1</th>\n",
       "      <th>reports_amt_2</th>\n",
       "      <th>reports_amt_3</th>\n",
       "      <th>reports_amt_4</th>\n",
       "      <th>sess_with_abusers_amt_1</th>\n",
       "      <th>sess_with_abusers_amt_2</th>\n",
       "      <th>sess_with_abusers_amt_3</th>\n",
       "      <th>sess_with_abusers_amt_4</th>\n",
       "      <th>session_amt_1</th>\n",
       "      <th>session_amt_2</th>\n",
       "      <th>session_amt_3</th>\n",
       "      <th>session_amt_4</th>\n",
       "      <th>disconnect_amt_1</th>\n",
       "      <th>disconnect_amt_2</th>\n",
       "      <th>disconnect_amt_3</th>\n",
       "      <th>disconnect_amt_4</th>\n",
       "      <th>avg_min_ping_1</th>\n",
       "      <th>avg_min_ping_2</th>\n",
       "      <th>avg_min_ping_3</th>\n",
       "      <th>avg_min_ping_4</th>\n",
       "      <th>session_player_1</th>\n",
       "      <th>session_player_2</th>\n",
       "      <th>session_player_3</th>\n",
       "      <th>session_player_4</th>\n",
       "      <th>win_rate_1</th>\n",
       "      <th>win_rate_2</th>\n",
       "      <th>win_rate_3</th>\n",
       "      <th>win_rate_4</th>\n",
       "      <th>leavings_rate_1</th>\n",
       "      <th>leavings_rate_2</th>\n",
       "      <th>leavings_rate_3</th>\n",
       "      <th>leavings_rate_4</th>\n",
       "      <th>kd_1</th>\n",
       "      <th>kd_2</th>\n",
       "      <th>kd_3</th>\n",
       "      <th>kd_4</th>\n",
       "      <th>gold_spent_1</th>\n",
       "      <th>gold_spent_2</th>\n",
       "      <th>gold_spent_3</th>\n",
       "      <th>gold_spent_4</th>\n",
       "      <th>silver_spent_1</th>\n",
       "      <th>silver_spent_2</th>\n",
       "      <th>silver_spent_3</th>\n",
       "      <th>silver_spent_4</th>\n",
       "      <th>age</th>\n",
       "      <th>gender</th>\n",
       "      <th>days_between_reg_fl</th>\n",
       "      <th>days_between_fl_df</th>\n",
       "      <th>has_return_date</th>\n",
       "      <th>has_phone_number</th>\n",
       "    </tr>\n",
       "  </thead>\n",
       "  <tbody>\n",
       "    <tr>\n",
       "      <th>0</th>\n",
       "      <td>1e7edd8347e3aaeedf8c494b11240851e3fa0ad231b8f8...</td>\n",
       "      <td>0</td>\n",
       "      <td>43</td>\n",
       "      <td>88730.00000</td>\n",
       "      <td>0.0</td>\n",
       "      <td>0.0</td>\n",
       "      <td>0.0</td>\n",
       "      <td>0.0</td>\n",
       "      <td>0.000000</td>\n",
       "      <td>0.0</td>\n",
       "      <td>0.0</td>\n",
       "      <td>0.0</td>\n",
       "      <td>0.0</td>\n",
       "      <td>0.0</td>\n",
       "      <td>0.0</td>\n",
       "      <td>2.0</td>\n",
       "      <td>0.000000</td>\n",
       "      <td>6.5</td>\n",
       "      <td>1.000000</td>\n",
       "      <td>6.000000</td>\n",
       "      <td>1.0</td>\n",
       "      <td>2.000000</td>\n",
       "      <td>1.000000</td>\n",
       "      <td>0.500000</td>\n",
       "      <td>0.000000</td>\n",
       "      <td>0.000000</td>\n",
       "      <td>0.0</td>\n",
       "      <td>0.500000</td>\n",
       "      <td>54.000000</td>\n",
       "      <td>31.000000</td>\n",
       "      <td>42.000000</td>\n",
       "      <td>28.000000</td>\n",
       "      <td>1321.000000</td>\n",
       "      <td>8592.000000</td>\n",
       "      <td>1352.333333</td>\n",
       "      <td>7941.500000</td>\n",
       "      <td>3.000000</td>\n",
       "      <td>0.659091</td>\n",
       "      <td>1.000000</td>\n",
       "      <td>0.650000</td>\n",
       "      <td>0.000000</td>\n",
       "      <td>0.216667</td>\n",
       "      <td>0.000000</td>\n",
       "      <td>0.166667</td>\n",
       "      <td>2.000000</td>\n",
       "      <td>2.387302</td>\n",
       "      <td>1.034877</td>\n",
       "      <td>0.952632</td>\n",
       "      <td>0.000000</td>\n",
       "      <td>0.0</td>\n",
       "      <td>78.666667</td>\n",
       "      <td>0.000000</td>\n",
       "      <td>0.000000</td>\n",
       "      <td>40900.0</td>\n",
       "      <td>300.000000</td>\n",
       "      <td>25000.000000</td>\n",
       "      <td>26.0</td>\n",
       "      <td>0.0</td>\n",
       "      <td>0</td>\n",
       "      <td>7</td>\n",
       "      <td>1</td>\n",
       "      <td>1</td>\n",
       "    </tr>\n",
       "    <tr>\n",
       "      <th>1</th>\n",
       "      <td>f43cac5f14e06ca039b173e14c323ac0c1fd8492f0cf08...</td>\n",
       "      <td>0</td>\n",
       "      <td>50</td>\n",
       "      <td>44149.00000</td>\n",
       "      <td>0.0</td>\n",
       "      <td>0.0</td>\n",
       "      <td>0.0</td>\n",
       "      <td>0.0</td>\n",
       "      <td>0.000000</td>\n",
       "      <td>0.0</td>\n",
       "      <td>0.0</td>\n",
       "      <td>0.0</td>\n",
       "      <td>1.0</td>\n",
       "      <td>1.0</td>\n",
       "      <td>0.0</td>\n",
       "      <td>1.0</td>\n",
       "      <td>3.600000</td>\n",
       "      <td>4.8</td>\n",
       "      <td>4.666667</td>\n",
       "      <td>4.000000</td>\n",
       "      <td>1.4</td>\n",
       "      <td>1.500000</td>\n",
       "      <td>2.200000</td>\n",
       "      <td>1.428571</td>\n",
       "      <td>0.000000</td>\n",
       "      <td>0.250000</td>\n",
       "      <td>0.0</td>\n",
       "      <td>0.142857</td>\n",
       "      <td>65.666666</td>\n",
       "      <td>46.000000</td>\n",
       "      <td>48.333334</td>\n",
       "      <td>70.571429</td>\n",
       "      <td>4685.000000</td>\n",
       "      <td>5632.600000</td>\n",
       "      <td>5526.833333</td>\n",
       "      <td>5444.000000</td>\n",
       "      <td>1.123333</td>\n",
       "      <td>1.678571</td>\n",
       "      <td>2.125631</td>\n",
       "      <td>1.661905</td>\n",
       "      <td>0.018182</td>\n",
       "      <td>0.013333</td>\n",
       "      <td>0.000000</td>\n",
       "      <td>0.035714</td>\n",
       "      <td>1.375780</td>\n",
       "      <td>1.247101</td>\n",
       "      <td>1.262016</td>\n",
       "      <td>1.432277</td>\n",
       "      <td>0.000000</td>\n",
       "      <td>0.0</td>\n",
       "      <td>0.000000</td>\n",
       "      <td>0.000000</td>\n",
       "      <td>0.000000</td>\n",
       "      <td>41480.0</td>\n",
       "      <td>6266.666667</td>\n",
       "      <td>1400.000000</td>\n",
       "      <td>27.0</td>\n",
       "      <td>0.0</td>\n",
       "      <td>0</td>\n",
       "      <td>37</td>\n",
       "      <td>1</td>\n",
       "      <td>1</td>\n",
       "    </tr>\n",
       "    <tr>\n",
       "      <th>2</th>\n",
       "      <td>cc7450e0b182947998534ef137b05e07109c100aced0b6...</td>\n",
       "      <td>0</td>\n",
       "      <td>37</td>\n",
       "      <td>44931.00000</td>\n",
       "      <td>1.0</td>\n",
       "      <td>1.0</td>\n",
       "      <td>0.0</td>\n",
       "      <td>2.0</td>\n",
       "      <td>63.000000</td>\n",
       "      <td>350.0</td>\n",
       "      <td>0.0</td>\n",
       "      <td>130.0</td>\n",
       "      <td>1.0</td>\n",
       "      <td>1.0</td>\n",
       "      <td>1.0</td>\n",
       "      <td>2.0</td>\n",
       "      <td>4.166667</td>\n",
       "      <td>8.2</td>\n",
       "      <td>8.000000</td>\n",
       "      <td>8.571429</td>\n",
       "      <td>1.0</td>\n",
       "      <td>1.857143</td>\n",
       "      <td>1.714286</td>\n",
       "      <td>1.857143</td>\n",
       "      <td>0.857143</td>\n",
       "      <td>0.857143</td>\n",
       "      <td>1.0</td>\n",
       "      <td>1.142857</td>\n",
       "      <td>60.972222</td>\n",
       "      <td>49.161904</td>\n",
       "      <td>63.061508</td>\n",
       "      <td>63.773809</td>\n",
       "      <td>4710.166667</td>\n",
       "      <td>6543.400000</td>\n",
       "      <td>6317.000000</td>\n",
       "      <td>7550.571429</td>\n",
       "      <td>0.684722</td>\n",
       "      <td>0.653571</td>\n",
       "      <td>0.291667</td>\n",
       "      <td>0.518254</td>\n",
       "      <td>0.066667</td>\n",
       "      <td>0.096667</td>\n",
       "      <td>0.064935</td>\n",
       "      <td>0.077063</td>\n",
       "      <td>1.075181</td>\n",
       "      <td>1.364430</td>\n",
       "      <td>0.872192</td>\n",
       "      <td>0.938326</td>\n",
       "      <td>104.285714</td>\n",
       "      <td>0.0</td>\n",
       "      <td>1.428571</td>\n",
       "      <td>2.857143</td>\n",
       "      <td>14471.428571</td>\n",
       "      <td>31400.0</td>\n",
       "      <td>5714.285714</td>\n",
       "      <td>414.285714</td>\n",
       "      <td>21.0</td>\n",
       "      <td>0.0</td>\n",
       "      <td>0</td>\n",
       "      <td>153</td>\n",
       "      <td>1</td>\n",
       "      <td>1</td>\n",
       "    </tr>\n",
       "    <tr>\n",
       "      <th>3</th>\n",
       "      <td>5c583d57a1e9e53341fc239d41fb6983e667a04b1b4d94...</td>\n",
       "      <td>0</td>\n",
       "      <td>20</td>\n",
       "      <td>37538.00000</td>\n",
       "      <td>0.0</td>\n",
       "      <td>0.0</td>\n",
       "      <td>0.0</td>\n",
       "      <td>0.0</td>\n",
       "      <td>0.000000</td>\n",
       "      <td>0.0</td>\n",
       "      <td>0.0</td>\n",
       "      <td>0.0</td>\n",
       "      <td>0.0</td>\n",
       "      <td>0.0</td>\n",
       "      <td>0.0</td>\n",
       "      <td>0.0</td>\n",
       "      <td>0.000000</td>\n",
       "      <td>0.0</td>\n",
       "      <td>0.000000</td>\n",
       "      <td>0.000000</td>\n",
       "      <td>0.0</td>\n",
       "      <td>0.000000</td>\n",
       "      <td>0.000000</td>\n",
       "      <td>0.000000</td>\n",
       "      <td>0.000000</td>\n",
       "      <td>0.000000</td>\n",
       "      <td>0.0</td>\n",
       "      <td>0.000000</td>\n",
       "      <td>28.433333</td>\n",
       "      <td>28.972222</td>\n",
       "      <td>29.000000</td>\n",
       "      <td>29.000000</td>\n",
       "      <td>0.000000</td>\n",
       "      <td>0.000000</td>\n",
       "      <td>0.000000</td>\n",
       "      <td>0.000000</td>\n",
       "      <td>0.000000</td>\n",
       "      <td>0.000000</td>\n",
       "      <td>0.000000</td>\n",
       "      <td>0.000000</td>\n",
       "      <td>0.000000</td>\n",
       "      <td>0.000000</td>\n",
       "      <td>0.000000</td>\n",
       "      <td>0.000000</td>\n",
       "      <td>0.000000</td>\n",
       "      <td>0.000000</td>\n",
       "      <td>0.000000</td>\n",
       "      <td>0.000000</td>\n",
       "      <td>0.000000</td>\n",
       "      <td>0.0</td>\n",
       "      <td>0.000000</td>\n",
       "      <td>0.000000</td>\n",
       "      <td>0.000000</td>\n",
       "      <td>0.0</td>\n",
       "      <td>0.000000</td>\n",
       "      <td>0.000000</td>\n",
       "      <td>22.0</td>\n",
       "      <td>0.0</td>\n",
       "      <td>0</td>\n",
       "      <td>156</td>\n",
       "      <td>1</td>\n",
       "      <td>1</td>\n",
       "    </tr>\n",
       "    <tr>\n",
       "      <th>4</th>\n",
       "      <td>9bbaa1a2501e8dc83cf6c0c54ef139c75c99de09dcf4dc...</td>\n",
       "      <td>0</td>\n",
       "      <td>10</td>\n",
       "      <td>4100.97998</td>\n",
       "      <td>1.0</td>\n",
       "      <td>0.0</td>\n",
       "      <td>0.0</td>\n",
       "      <td>0.0</td>\n",
       "      <td>66.580002</td>\n",
       "      <td>0.0</td>\n",
       "      <td>0.0</td>\n",
       "      <td>0.0</td>\n",
       "      <td>0.0</td>\n",
       "      <td>0.0</td>\n",
       "      <td>2.0</td>\n",
       "      <td>0.0</td>\n",
       "      <td>4.250000</td>\n",
       "      <td>2.0</td>\n",
       "      <td>4.000000</td>\n",
       "      <td>1.400000</td>\n",
       "      <td>0.6</td>\n",
       "      <td>1.500000</td>\n",
       "      <td>1.500000</td>\n",
       "      <td>1.500000</td>\n",
       "      <td>0.800000</td>\n",
       "      <td>0.250000</td>\n",
       "      <td>0.5</td>\n",
       "      <td>0.250000</td>\n",
       "      <td>24.900000</td>\n",
       "      <td>24.500000</td>\n",
       "      <td>24.833333</td>\n",
       "      <td>24.733333</td>\n",
       "      <td>4124.400000</td>\n",
       "      <td>2755.833333</td>\n",
       "      <td>3776.800000</td>\n",
       "      <td>1949.000000</td>\n",
       "      <td>1.113333</td>\n",
       "      <td>0.733333</td>\n",
       "      <td>1.316667</td>\n",
       "      <td>1.000000</td>\n",
       "      <td>0.050000</td>\n",
       "      <td>0.305556</td>\n",
       "      <td>0.054286</td>\n",
       "      <td>0.111111</td>\n",
       "      <td>9.825229</td>\n",
       "      <td>10.025196</td>\n",
       "      <td>3.536477</td>\n",
       "      <td>10.131818</td>\n",
       "      <td>0.000000</td>\n",
       "      <td>0.0</td>\n",
       "      <td>0.000000</td>\n",
       "      <td>0.000000</td>\n",
       "      <td>0.000000</td>\n",
       "      <td>0.0</td>\n",
       "      <td>1666.666667</td>\n",
       "      <td>9838.000000</td>\n",
       "      <td>24.0</td>\n",
       "      <td>0.0</td>\n",
       "      <td>0</td>\n",
       "      <td>21</td>\n",
       "      <td>1</td>\n",
       "      <td>1</td>\n",
       "    </tr>\n",
       "  </tbody>\n",
       "</table>\n",
       "</div>"
      ],
      "text/plain": [
       "                                             user_id  ...  has_phone_number\n",
       "0  1e7edd8347e3aaeedf8c494b11240851e3fa0ad231b8f8...  ...                 1\n",
       "1  f43cac5f14e06ca039b173e14c323ac0c1fd8492f0cf08...  ...                 1\n",
       "2  cc7450e0b182947998534ef137b05e07109c100aced0b6...  ...                 1\n",
       "3  5c583d57a1e9e53341fc239d41fb6983e667a04b1b4d94...  ...                 1\n",
       "4  9bbaa1a2501e8dc83cf6c0c54ef139c75c99de09dcf4dc...  ...                 1\n",
       "\n",
       "[5 rows x 62 columns]"
      ]
     },
     "execution_count": 15,
     "metadata": {
      "tags": []
     },
     "output_type": "execute_result"
    }
   ],
   "source": [
    "train_new = pd.read_csv('/content/drive/My Drive/train_new.csv', index_col=0)\n",
    "train_new.head()"
   ]
  },
  {
   "cell_type": "code",
   "execution_count": 0,
   "metadata": {
    "colab": {
     "base_uri": "https://localhost:8080/",
     "height": 317
    },
    "colab_type": "code",
    "id": "lD3P6keoEyCK",
    "outputId": "c6bb04f4-065f-424c-a919-2fceac343a2a"
   },
   "outputs": [
    {
     "data": {
      "text/html": [
       "<div>\n",
       "<style scoped>\n",
       "    .dataframe tbody tr th:only-of-type {\n",
       "        vertical-align: middle;\n",
       "    }\n",
       "\n",
       "    .dataframe tbody tr th {\n",
       "        vertical-align: top;\n",
       "    }\n",
       "\n",
       "    .dataframe thead th {\n",
       "        text-align: right;\n",
       "    }\n",
       "</style>\n",
       "<table border=\"1\" class=\"dataframe\">\n",
       "  <thead>\n",
       "    <tr style=\"text-align: right;\">\n",
       "      <th></th>\n",
       "      <th>is_churned</th>\n",
       "      <th>level</th>\n",
       "      <th>donate_total</th>\n",
       "      <th>trans_amt_1</th>\n",
       "      <th>trans_amt_2</th>\n",
       "      <th>trans_amt_3</th>\n",
       "      <th>trans_amt_4</th>\n",
       "      <th>pay_amt_1</th>\n",
       "      <th>pay_amt_2</th>\n",
       "      <th>pay_amt_3</th>\n",
       "      <th>pay_amt_4</th>\n",
       "      <th>reports_amt_1</th>\n",
       "      <th>reports_amt_2</th>\n",
       "      <th>reports_amt_3</th>\n",
       "      <th>reports_amt_4</th>\n",
       "      <th>sess_with_abusers_amt_1</th>\n",
       "      <th>sess_with_abusers_amt_2</th>\n",
       "      <th>sess_with_abusers_amt_3</th>\n",
       "      <th>sess_with_abusers_amt_4</th>\n",
       "      <th>session_amt_1</th>\n",
       "      <th>session_amt_2</th>\n",
       "      <th>session_amt_3</th>\n",
       "      <th>session_amt_4</th>\n",
       "      <th>disconnect_amt_1</th>\n",
       "      <th>disconnect_amt_2</th>\n",
       "      <th>disconnect_amt_3</th>\n",
       "      <th>disconnect_amt_4</th>\n",
       "      <th>avg_min_ping_1</th>\n",
       "      <th>avg_min_ping_2</th>\n",
       "      <th>avg_min_ping_3</th>\n",
       "      <th>avg_min_ping_4</th>\n",
       "      <th>session_player_1</th>\n",
       "      <th>session_player_2</th>\n",
       "      <th>session_player_3</th>\n",
       "      <th>session_player_4</th>\n",
       "      <th>win_rate_1</th>\n",
       "      <th>win_rate_2</th>\n",
       "      <th>win_rate_3</th>\n",
       "      <th>win_rate_4</th>\n",
       "      <th>leavings_rate_1</th>\n",
       "      <th>leavings_rate_2</th>\n",
       "      <th>leavings_rate_3</th>\n",
       "      <th>leavings_rate_4</th>\n",
       "      <th>kd_1</th>\n",
       "      <th>kd_2</th>\n",
       "      <th>kd_3</th>\n",
       "      <th>kd_4</th>\n",
       "      <th>gold_spent_1</th>\n",
       "      <th>gold_spent_2</th>\n",
       "      <th>gold_spent_3</th>\n",
       "      <th>gold_spent_4</th>\n",
       "      <th>silver_spent_1</th>\n",
       "      <th>silver_spent_2</th>\n",
       "      <th>silver_spent_3</th>\n",
       "      <th>silver_spent_4</th>\n",
       "      <th>age</th>\n",
       "      <th>gender</th>\n",
       "      <th>days_between_reg_fl</th>\n",
       "      <th>days_between_fl_df</th>\n",
       "      <th>has_return_date</th>\n",
       "      <th>has_phone_number</th>\n",
       "    </tr>\n",
       "  </thead>\n",
       "  <tbody>\n",
       "    <tr>\n",
       "      <th>count</th>\n",
       "      <td>469475.000000</td>\n",
       "      <td>469475.000000</td>\n",
       "      <td>4.694750e+05</td>\n",
       "      <td>469475.000000</td>\n",
       "      <td>469475.000000</td>\n",
       "      <td>469475.000000</td>\n",
       "      <td>469475.000000</td>\n",
       "      <td>469475.000000</td>\n",
       "      <td>469475.000000</td>\n",
       "      <td>469475.000000</td>\n",
       "      <td>469475.000000</td>\n",
       "      <td>469475.000000</td>\n",
       "      <td>469475.000000</td>\n",
       "      <td>469475.000000</td>\n",
       "      <td>469475.000000</td>\n",
       "      <td>469475.000000</td>\n",
       "      <td>469475.000000</td>\n",
       "      <td>469475.000000</td>\n",
       "      <td>469475.000000</td>\n",
       "      <td>469475.000000</td>\n",
       "      <td>469475.000000</td>\n",
       "      <td>469475.000000</td>\n",
       "      <td>469475.000000</td>\n",
       "      <td>469475.000000</td>\n",
       "      <td>469475.000000</td>\n",
       "      <td>469475.000000</td>\n",
       "      <td>469475.000000</td>\n",
       "      <td>469475.000000</td>\n",
       "      <td>469475.000000</td>\n",
       "      <td>469475.000000</td>\n",
       "      <td>469475.000000</td>\n",
       "      <td>469475.000000</td>\n",
       "      <td>469475.000000</td>\n",
       "      <td>469475.000000</td>\n",
       "      <td>469475.000000</td>\n",
       "      <td>469475.000000</td>\n",
       "      <td>469475.000000</td>\n",
       "      <td>469475.000000</td>\n",
       "      <td>469475.000000</td>\n",
       "      <td>469475.000000</td>\n",
       "      <td>469475.000000</td>\n",
       "      <td>469475.000000</td>\n",
       "      <td>469475.000000</td>\n",
       "      <td>469475.000000</td>\n",
       "      <td>469475.000000</td>\n",
       "      <td>469475.000000</td>\n",
       "      <td>469475.000000</td>\n",
       "      <td>469475.000000</td>\n",
       "      <td>469475.000000</td>\n",
       "      <td>469475.000000</td>\n",
       "      <td>469475.000000</td>\n",
       "      <td>4.694750e+05</td>\n",
       "      <td>4.694750e+05</td>\n",
       "      <td>4.694750e+05</td>\n",
       "      <td>4.694750e+05</td>\n",
       "      <td>469475.000000</td>\n",
       "      <td>469475.0</td>\n",
       "      <td>469475.000000</td>\n",
       "      <td>469475.000000</td>\n",
       "      <td>469475.000000</td>\n",
       "      <td>469475.000000</td>\n",
       "    </tr>\n",
       "    <tr>\n",
       "      <th>mean</th>\n",
       "      <td>0.029448</td>\n",
       "      <td>26.792698</td>\n",
       "      <td>4.800206e+04</td>\n",
       "      <td>0.198513</td>\n",
       "      <td>0.182546</td>\n",
       "      <td>0.173069</td>\n",
       "      <td>0.173995</td>\n",
       "      <td>140.415895</td>\n",
       "      <td>134.262708</td>\n",
       "      <td>129.077459</td>\n",
       "      <td>133.300280</td>\n",
       "      <td>0.708455</td>\n",
       "      <td>0.707977</td>\n",
       "      <td>0.709422</td>\n",
       "      <td>0.703380</td>\n",
       "      <td>2.810628</td>\n",
       "      <td>2.938302</td>\n",
       "      <td>3.075788</td>\n",
       "      <td>3.175711</td>\n",
       "      <td>0.997169</td>\n",
       "      <td>0.997714</td>\n",
       "      <td>1.007816</td>\n",
       "      <td>1.028452</td>\n",
       "      <td>0.375617</td>\n",
       "      <td>0.385396</td>\n",
       "      <td>0.397086</td>\n",
       "      <td>0.414983</td>\n",
       "      <td>33.190376</td>\n",
       "      <td>33.453583</td>\n",
       "      <td>33.563482</td>\n",
       "      <td>33.682889</td>\n",
       "      <td>3265.955581</td>\n",
       "      <td>3379.027138</td>\n",
       "      <td>3512.251970</td>\n",
       "      <td>3622.309714</td>\n",
       "      <td>0.747296</td>\n",
       "      <td>0.723235</td>\n",
       "      <td>0.715966</td>\n",
       "      <td>0.710840</td>\n",
       "      <td>0.072856</td>\n",
       "      <td>0.071267</td>\n",
       "      <td>0.072153</td>\n",
       "      <td>0.073360</td>\n",
       "      <td>3.565562</td>\n",
       "      <td>3.389694</td>\n",
       "      <td>3.300992</td>\n",
       "      <td>3.210472</td>\n",
       "      <td>73.334719</td>\n",
       "      <td>72.931138</td>\n",
       "      <td>70.150866</td>\n",
       "      <td>69.289718</td>\n",
       "      <td>6.444131e+03</td>\n",
       "      <td>5.700765e+03</td>\n",
       "      <td>4.550476e+03</td>\n",
       "      <td>4.724096e+03</td>\n",
       "      <td>26.002226</td>\n",
       "      <td>0.0</td>\n",
       "      <td>14.340597</td>\n",
       "      <td>218.709164</td>\n",
       "      <td>0.882946</td>\n",
       "      <td>0.830589</td>\n",
       "    </tr>\n",
       "    <tr>\n",
       "      <th>std</th>\n",
       "      <td>0.169058</td>\n",
       "      <td>12.680296</td>\n",
       "      <td>8.576742e+04</td>\n",
       "      <td>0.573882</td>\n",
       "      <td>0.567848</td>\n",
       "      <td>0.562879</td>\n",
       "      <td>0.553329</td>\n",
       "      <td>597.573949</td>\n",
       "      <td>603.785240</td>\n",
       "      <td>613.631584</td>\n",
       "      <td>632.451995</td>\n",
       "      <td>1.586962</td>\n",
       "      <td>1.574771</td>\n",
       "      <td>1.567295</td>\n",
       "      <td>1.556799</td>\n",
       "      <td>3.677683</td>\n",
       "      <td>3.834196</td>\n",
       "      <td>3.993347</td>\n",
       "      <td>4.109293</td>\n",
       "      <td>1.134619</td>\n",
       "      <td>1.156297</td>\n",
       "      <td>1.168026</td>\n",
       "      <td>1.188481</td>\n",
       "      <td>1.888480</td>\n",
       "      <td>2.157656</td>\n",
       "      <td>1.811968</td>\n",
       "      <td>2.201080</td>\n",
       "      <td>23.906486</td>\n",
       "      <td>23.553533</td>\n",
       "      <td>23.591891</td>\n",
       "      <td>23.729100</td>\n",
       "      <td>4015.691844</td>\n",
       "      <td>4158.659831</td>\n",
       "      <td>4286.840526</td>\n",
       "      <td>4384.824816</td>\n",
       "      <td>3.125124</td>\n",
       "      <td>2.527616</td>\n",
       "      <td>2.412572</td>\n",
       "      <td>1.638846</td>\n",
       "      <td>1.239741</td>\n",
       "      <td>1.137892</td>\n",
       "      <td>0.638524</td>\n",
       "      <td>0.271250</td>\n",
       "      <td>60.417143</td>\n",
       "      <td>34.960178</td>\n",
       "      <td>26.118473</td>\n",
       "      <td>17.093699</td>\n",
       "      <td>380.674537</td>\n",
       "      <td>385.894325</td>\n",
       "      <td>407.242002</td>\n",
       "      <td>385.043766</td>\n",
       "      <td>2.559970e+04</td>\n",
       "      <td>1.978590e+04</td>\n",
       "      <td>1.452183e+04</td>\n",
       "      <td>1.475799e+04</td>\n",
       "      <td>8.341266</td>\n",
       "      <td>0.0</td>\n",
       "      <td>114.818230</td>\n",
       "      <td>363.410345</td>\n",
       "      <td>0.321485</td>\n",
       "      <td>0.375115</td>\n",
       "    </tr>\n",
       "    <tr>\n",
       "      <th>min</th>\n",
       "      <td>0.000000</td>\n",
       "      <td>10.000000</td>\n",
       "      <td>6.000000e-02</td>\n",
       "      <td>0.000000</td>\n",
       "      <td>0.000000</td>\n",
       "      <td>0.000000</td>\n",
       "      <td>0.000000</td>\n",
       "      <td>0.000000</td>\n",
       "      <td>0.000000</td>\n",
       "      <td>0.000000</td>\n",
       "      <td>0.000000</td>\n",
       "      <td>0.000000</td>\n",
       "      <td>0.000000</td>\n",
       "      <td>0.000000</td>\n",
       "      <td>0.000000</td>\n",
       "      <td>0.000000</td>\n",
       "      <td>0.000000</td>\n",
       "      <td>0.000000</td>\n",
       "      <td>0.000000</td>\n",
       "      <td>0.000000</td>\n",
       "      <td>0.000000</td>\n",
       "      <td>0.000000</td>\n",
       "      <td>0.000000</td>\n",
       "      <td>0.000000</td>\n",
       "      <td>0.000000</td>\n",
       "      <td>0.000000</td>\n",
       "      <td>0.000000</td>\n",
       "      <td>0.000000</td>\n",
       "      <td>0.000000</td>\n",
       "      <td>0.000000</td>\n",
       "      <td>0.000000</td>\n",
       "      <td>0.000000</td>\n",
       "      <td>0.000000</td>\n",
       "      <td>0.000000</td>\n",
       "      <td>0.000000</td>\n",
       "      <td>0.000000</td>\n",
       "      <td>0.000000</td>\n",
       "      <td>0.000000</td>\n",
       "      <td>0.000000</td>\n",
       "      <td>0.000000</td>\n",
       "      <td>0.000000</td>\n",
       "      <td>0.000000</td>\n",
       "      <td>0.000000</td>\n",
       "      <td>0.000000</td>\n",
       "      <td>0.000000</td>\n",
       "      <td>0.000000</td>\n",
       "      <td>0.000000</td>\n",
       "      <td>0.000000</td>\n",
       "      <td>0.000000</td>\n",
       "      <td>0.000000</td>\n",
       "      <td>0.000000</td>\n",
       "      <td>0.000000e+00</td>\n",
       "      <td>0.000000e+00</td>\n",
       "      <td>0.000000e+00</td>\n",
       "      <td>0.000000e+00</td>\n",
       "      <td>7.000000</td>\n",
       "      <td>0.0</td>\n",
       "      <td>-1.000000</td>\n",
       "      <td>-1.000000</td>\n",
       "      <td>0.000000</td>\n",
       "      <td>0.000000</td>\n",
       "    </tr>\n",
       "    <tr>\n",
       "      <th>25%</th>\n",
       "      <td>0.000000</td>\n",
       "      <td>17.000000</td>\n",
       "      <td>6.312000e+03</td>\n",
       "      <td>0.000000</td>\n",
       "      <td>0.000000</td>\n",
       "      <td>0.000000</td>\n",
       "      <td>0.000000</td>\n",
       "      <td>0.000000</td>\n",
       "      <td>0.000000</td>\n",
       "      <td>0.000000</td>\n",
       "      <td>0.000000</td>\n",
       "      <td>0.000000</td>\n",
       "      <td>0.000000</td>\n",
       "      <td>0.000000</td>\n",
       "      <td>0.000000</td>\n",
       "      <td>0.000000</td>\n",
       "      <td>0.000000</td>\n",
       "      <td>0.000000</td>\n",
       "      <td>0.000000</td>\n",
       "      <td>0.000000</td>\n",
       "      <td>0.000000</td>\n",
       "      <td>0.000000</td>\n",
       "      <td>0.000000</td>\n",
       "      <td>0.000000</td>\n",
       "      <td>0.000000</td>\n",
       "      <td>0.000000</td>\n",
       "      <td>0.000000</td>\n",
       "      <td>23.642857</td>\n",
       "      <td>24.361508</td>\n",
       "      <td>24.571429</td>\n",
       "      <td>24.625000</td>\n",
       "      <td>0.000000</td>\n",
       "      <td>0.000000</td>\n",
       "      <td>0.000000</td>\n",
       "      <td>0.000000</td>\n",
       "      <td>0.000000</td>\n",
       "      <td>0.000000</td>\n",
       "      <td>0.000000</td>\n",
       "      <td>0.000000</td>\n",
       "      <td>0.000000</td>\n",
       "      <td>0.000000</td>\n",
       "      <td>0.000000</td>\n",
       "      <td>0.000000</td>\n",
       "      <td>0.000000</td>\n",
       "      <td>0.000000</td>\n",
       "      <td>0.000000</td>\n",
       "      <td>0.000000</td>\n",
       "      <td>0.000000</td>\n",
       "      <td>0.000000</td>\n",
       "      <td>0.000000</td>\n",
       "      <td>0.000000</td>\n",
       "      <td>0.000000e+00</td>\n",
       "      <td>0.000000e+00</td>\n",
       "      <td>0.000000e+00</td>\n",
       "      <td>0.000000e+00</td>\n",
       "      <td>20.000000</td>\n",
       "      <td>0.0</td>\n",
       "      <td>0.000000</td>\n",
       "      <td>8.000000</td>\n",
       "      <td>1.000000</td>\n",
       "      <td>1.000000</td>\n",
       "    </tr>\n",
       "    <tr>\n",
       "      <th>50%</th>\n",
       "      <td>0.000000</td>\n",
       "      <td>23.000000</td>\n",
       "      <td>2.019600e+04</td>\n",
       "      <td>0.000000</td>\n",
       "      <td>0.000000</td>\n",
       "      <td>0.000000</td>\n",
       "      <td>0.000000</td>\n",
       "      <td>0.000000</td>\n",
       "      <td>0.000000</td>\n",
       "      <td>0.000000</td>\n",
       "      <td>0.000000</td>\n",
       "      <td>0.000000</td>\n",
       "      <td>0.000000</td>\n",
       "      <td>0.000000</td>\n",
       "      <td>0.000000</td>\n",
       "      <td>1.333333</td>\n",
       "      <td>1.500000</td>\n",
       "      <td>1.500000</td>\n",
       "      <td>1.666667</td>\n",
       "      <td>1.000000</td>\n",
       "      <td>1.000000</td>\n",
       "      <td>1.000000</td>\n",
       "      <td>1.000000</td>\n",
       "      <td>0.000000</td>\n",
       "      <td>0.000000</td>\n",
       "      <td>0.000000</td>\n",
       "      <td>0.000000</td>\n",
       "      <td>28.433333</td>\n",
       "      <td>28.972222</td>\n",
       "      <td>29.000000</td>\n",
       "      <td>29.000000</td>\n",
       "      <td>1861.000000</td>\n",
       "      <td>1899.500000</td>\n",
       "      <td>2019.500000</td>\n",
       "      <td>2128.500000</td>\n",
       "      <td>0.500000</td>\n",
       "      <td>0.491667</td>\n",
       "      <td>0.492424</td>\n",
       "      <td>0.500000</td>\n",
       "      <td>0.000000</td>\n",
       "      <td>0.000000</td>\n",
       "      <td>0.000000</td>\n",
       "      <td>0.000000</td>\n",
       "      <td>0.835618</td>\n",
       "      <td>0.833333</td>\n",
       "      <td>0.852273</td>\n",
       "      <td>0.871795</td>\n",
       "      <td>0.000000</td>\n",
       "      <td>0.000000</td>\n",
       "      <td>0.000000</td>\n",
       "      <td>0.000000</td>\n",
       "      <td>0.000000e+00</td>\n",
       "      <td>0.000000e+00</td>\n",
       "      <td>0.000000e+00</td>\n",
       "      <td>0.000000e+00</td>\n",
       "      <td>24.000000</td>\n",
       "      <td>0.0</td>\n",
       "      <td>0.000000</td>\n",
       "      <td>56.000000</td>\n",
       "      <td>1.000000</td>\n",
       "      <td>1.000000</td>\n",
       "    </tr>\n",
       "    <tr>\n",
       "      <th>75%</th>\n",
       "      <td>0.000000</td>\n",
       "      <td>36.000000</td>\n",
       "      <td>5.543250e+04</td>\n",
       "      <td>0.000000</td>\n",
       "      <td>0.000000</td>\n",
       "      <td>0.000000</td>\n",
       "      <td>0.000000</td>\n",
       "      <td>0.000000</td>\n",
       "      <td>0.000000</td>\n",
       "      <td>0.000000</td>\n",
       "      <td>0.000000</td>\n",
       "      <td>1.000000</td>\n",
       "      <td>1.000000</td>\n",
       "      <td>1.000000</td>\n",
       "      <td>1.000000</td>\n",
       "      <td>4.666667</td>\n",
       "      <td>5.000000</td>\n",
       "      <td>5.166667</td>\n",
       "      <td>5.333333</td>\n",
       "      <td>1.600000</td>\n",
       "      <td>1.600000</td>\n",
       "      <td>1.666667</td>\n",
       "      <td>1.666667</td>\n",
       "      <td>0.500000</td>\n",
       "      <td>0.500000</td>\n",
       "      <td>0.571429</td>\n",
       "      <td>0.571429</td>\n",
       "      <td>34.000000</td>\n",
       "      <td>33.944445</td>\n",
       "      <td>34.000000</td>\n",
       "      <td>34.214286</td>\n",
       "      <td>5465.242857</td>\n",
       "      <td>5700.761905</td>\n",
       "      <td>5952.000000</td>\n",
       "      <td>6136.666667</td>\n",
       "      <td>1.140000</td>\n",
       "      <td>1.110254</td>\n",
       "      <td>1.094872</td>\n",
       "      <td>1.083333</td>\n",
       "      <td>0.075794</td>\n",
       "      <td>0.076923</td>\n",
       "      <td>0.083333</td>\n",
       "      <td>0.085242</td>\n",
       "      <td>1.411259</td>\n",
       "      <td>1.436786</td>\n",
       "      <td>1.495540</td>\n",
       "      <td>1.548676</td>\n",
       "      <td>0.000000</td>\n",
       "      <td>0.000000</td>\n",
       "      <td>0.000000</td>\n",
       "      <td>0.000000</td>\n",
       "      <td>4.500000e+03</td>\n",
       "      <td>4.000000e+03</td>\n",
       "      <td>3.542857e+03</td>\n",
       "      <td>3.800000e+03</td>\n",
       "      <td>31.000000</td>\n",
       "      <td>0.0</td>\n",
       "      <td>0.000000</td>\n",
       "      <td>266.000000</td>\n",
       "      <td>1.000000</td>\n",
       "      <td>1.000000</td>\n",
       "    </tr>\n",
       "    <tr>\n",
       "      <th>max</th>\n",
       "      <td>1.000000</td>\n",
       "      <td>50.000000</td>\n",
       "      <td>4.356043e+06</td>\n",
       "      <td>18.000000</td>\n",
       "      <td>44.285714</td>\n",
       "      <td>26.857143</td>\n",
       "      <td>18.000000</td>\n",
       "      <td>56700.000000</td>\n",
       "      <td>56598.857143</td>\n",
       "      <td>46400.000000</td>\n",
       "      <td>71288.000000</td>\n",
       "      <td>38.571429</td>\n",
       "      <td>36.000000</td>\n",
       "      <td>35.000000</td>\n",
       "      <td>48.000000</td>\n",
       "      <td>174.000000</td>\n",
       "      <td>208.000000</td>\n",
       "      <td>267.666667</td>\n",
       "      <td>279.250000</td>\n",
       "      <td>39.333333</td>\n",
       "      <td>44.857143</td>\n",
       "      <td>30.500000</td>\n",
       "      <td>33.833333</td>\n",
       "      <td>446.571429</td>\n",
       "      <td>573.000000</td>\n",
       "      <td>393.285714</td>\n",
       "      <td>682.428571</td>\n",
       "      <td>537.000000</td>\n",
       "      <td>568.000000</td>\n",
       "      <td>610.000000</td>\n",
       "      <td>631.000000</td>\n",
       "      <td>58530.285714</td>\n",
       "      <td>58610.000000</td>\n",
       "      <td>58547.428571</td>\n",
       "      <td>64368.285714</td>\n",
       "      <td>1261.000000</td>\n",
       "      <td>1161.571429</td>\n",
       "      <td>1023.714286</td>\n",
       "      <td>473.476190</td>\n",
       "      <td>591.357143</td>\n",
       "      <td>586.785714</td>\n",
       "      <td>277.527779</td>\n",
       "      <td>100.000000</td>\n",
       "      <td>37791.000000</td>\n",
       "      <td>14475.166667</td>\n",
       "      <td>10780.333333</td>\n",
       "      <td>2806.428571</td>\n",
       "      <td>36115.000000</td>\n",
       "      <td>47376.857143</td>\n",
       "      <td>62268.000000</td>\n",
       "      <td>56068.000000</td>\n",
       "      <td>8.060050e+06</td>\n",
       "      <td>1.618050e+06</td>\n",
       "      <td>2.244387e+06</td>\n",
       "      <td>1.514500e+06</td>\n",
       "      <td>80.000000</td>\n",
       "      <td>0.0</td>\n",
       "      <td>2534.000000</td>\n",
       "      <td>2683.000000</td>\n",
       "      <td>1.000000</td>\n",
       "      <td>1.000000</td>\n",
       "    </tr>\n",
       "  </tbody>\n",
       "</table>\n",
       "</div>"
      ],
      "text/plain": [
       "          is_churned          level  ...  has_return_date  has_phone_number\n",
       "count  469475.000000  469475.000000  ...    469475.000000     469475.000000\n",
       "mean        0.029448      26.792698  ...         0.882946          0.830589\n",
       "std         0.169058      12.680296  ...         0.321485          0.375115\n",
       "min         0.000000      10.000000  ...         0.000000          0.000000\n",
       "25%         0.000000      17.000000  ...         1.000000          1.000000\n",
       "50%         0.000000      23.000000  ...         1.000000          1.000000\n",
       "75%         0.000000      36.000000  ...         1.000000          1.000000\n",
       "max         1.000000      50.000000  ...         1.000000          1.000000\n",
       "\n",
       "[8 rows x 61 columns]"
      ]
     },
     "execution_count": 16,
     "metadata": {
      "tags": []
     },
     "output_type": "execute_result"
    }
   ],
   "source": [
    "train_new.describe()"
   ]
  },
  {
   "cell_type": "markdown",
   "metadata": {},
   "source": [
    "**Обработка и баансировка данных для обучения**"
   ]
  },
  {
   "cell_type": "code",
   "execution_count": 0,
   "metadata": {
    "colab": {},
    "colab_type": "code",
    "id": "nVXZuuuXEyMB"
   },
   "outputs": [],
   "source": [
    "X = train_new.drop(['user_id', 'is_churned'], axis=1)\n",
    "y = train_new['is_churned']\n",
    "\n",
    "X_mm = MinMaxScaler().fit_transform(X)\n",
    "\n",
    "X_train, X_test, y_train, y_test = train_test_split(X_mm, y, \n",
    "                                                    test_size=0.3,\n",
    "                                                    shuffle=True, \n",
    "                                                    stratify=y, \n",
    "                                                    random_state=100)\n",
    "\n",
    "X_train_balanced, y_train_balanced = SMOTE(random_state=42, n_jobs=-1).fit_sample(X_train, y_train)"
   ]
  },
  {
   "cell_type": "markdown",
   "metadata": {},
   "source": [
    "**Функции из ноутбука вебинара**"
   ]
  },
  {
   "cell_type": "code",
   "execution_count": 0,
   "metadata": {
    "colab": {},
    "colab_type": "code",
    "id": "dwrWVW6xEyUK"
   },
   "outputs": [],
   "source": [
    "def evaluation(y_true, y_pred, y_prob):\n",
    "    precision = precision_score(y_true=y_true, y_pred=y_pred)\n",
    "    recall = recall_score(y_true=y_true, y_pred=y_pred)\n",
    "    f1 = f1_score(y_true=y_true, y_pred=y_pred)\n",
    "    ll = log_loss(y_true=y_true, y_pred=y_prob)\n",
    "    roc_auc = roc_auc_score(y_true=y_true, y_score=y_prob)\n",
    "    print('Precision: {}'.format(precision))\n",
    "    print('Recall: {}'.format(recall))\n",
    "    print('F1: {}'.format(f1))\n",
    "    print('Log Loss: {}'.format(ll)) \n",
    "    print('ROC AUC: {}'.format(roc_auc)) \n",
    "    return precision, recall, f1, ll, roc_auc\n",
    "\n",
    "def xgb_fit_predict(X_train, y_train, X_test, y_test):\n",
    "    clf = xgb.XGBClassifier(max_depth=3,\n",
    "                            n_estimators=100,\n",
    "                            learning_rate=0.1,\n",
    "                            nthread=5,\n",
    "                            subsample=1.,\n",
    "                            colsample_bytree=0.5,\n",
    "                            min_child_weight = 3,\n",
    "                            reg_alpha=0.,\n",
    "                            reg_lambda=0.,\n",
    "                            seed=42,\n",
    "                            missing=1e10)\n",
    "\n",
    "    clf.fit(X_train, y_train, eval_metric='aucpr', verbose=10)\n",
    "    predict_proba_test = clf.predict_proba(X_test)\n",
    "    predict_test = clf.predict(X_test)\n",
    "    precision_test, recall_test, f1_test, log_loss_test, roc_auc_test = \\\n",
    "        evaluation(y_test, predict_test, predict_proba_test[:, 1])\n",
    "    return clf\n",
    "\n",
    "\n",
    "def plot_importance(importance, features, name):\n",
    "    fi = pd.DataFrame(list(zip(features, importance))).sort_values(by=1, ascending=False)\n",
    "    plt.figure(figsize=(16,6))\n",
    "    plt.bar(range(fi.shape[0]), fi[1], align='center')\n",
    "    plt.xticks(range(fi.shape[0]), fi[0], rotation=90)\n",
    "    plt.title(name)\n",
    "    plt.show()\n",
    "    return fi"
   ]
  },
  {
   "cell_type": "markdown",
   "metadata": {},
   "source": [
    "## Задание 1"
   ]
  },
  {
   "cell_type": "markdown",
   "metadata": {},
   "source": [
    "***Используя признаки, отобранные взаимной информацией, RFE и PI, посмотрите качество XGBoost'а по аналогии с тем, как это делалось на уроке. При каком подходе к отбору признаков получается лучшее значение F1?***"
   ]
  },
  {
   "cell_type": "markdown",
   "metadata": {},
   "source": [
    "Обучим базовый классификатор (xgboost):"
   ]
  },
  {
   "cell_type": "code",
   "execution_count": 0,
   "metadata": {
    "colab": {
     "base_uri": "https://localhost:8080/",
     "height": 136
    },
    "colab_type": "code",
    "id": "xBCu8PTP9Ahs",
    "outputId": "a47e644b-b6ac-4682-c541-a693511c629c"
   },
   "outputs": [
    {
     "name": "stdout",
     "output_type": "stream",
     "text": [
      "Precision: 0.19800613496932515\n",
      "Recall: 0.6224686595949855\n",
      "F1: 0.3004421689550849\n",
      "Log Loss: 0.21151145036845154\n",
      "ROC AUC: 0.8938949132297043\n",
      "CPU times: user 2min 41s, sys: 509 ms, total: 2min 41s\n",
      "Wall time: 1min 23s\n"
     ]
    }
   ],
   "source": [
    "%%time\n",
    "base_clf = xgb_fit_predict(X_train_balanced, y_train_balanced, X_test, y_test)"
   ]
  },
  {
   "cell_type": "markdown",
   "metadata": {},
   "source": [
    "Метрика $F1 = 0.3$ достаточно мала, но присутствует разброс между точностью (0.198) и полнотой (0.622) - что дает шанс на traid-off."
   ]
  },
  {
   "cell_type": "markdown",
   "metadata": {},
   "source": [
    "**Взаимная информация**"
   ]
  },
  {
   "cell_type": "code",
   "execution_count": 0,
   "metadata": {
    "colab": {
     "base_uri": "https://localhost:8080/",
     "height": 51
    },
    "colab_type": "code",
    "id": "Y6qsnN3aFd8D",
    "outputId": "6760f34d-1d6e-47ca-9477-90b78d4fb208"
   },
   "outputs": [
    {
     "name": "stdout",
     "output_type": "stream",
     "text": [
      "CPU times: user 11min 41s, sys: 4.38 s, total: 11min 45s\n",
      "Wall time: 11min 46s\n"
     ]
    }
   ],
   "source": [
    "%%time\n",
    "mi = mutual_info_classif(X_train_balanced, y_train_balanced)"
   ]
  },
  {
   "cell_type": "code",
   "execution_count": 0,
   "metadata": {
    "colab": {},
    "colab_type": "code",
    "id": "b_2DEA7aGhBg"
   },
   "outputs": [],
   "source": [
    "mi_features = pd.Series(mi, index=X.columns).sort_values(ascending=False).head(30).index"
   ]
  },
  {
   "cell_type": "code",
   "execution_count": 0,
   "metadata": {
    "colab": {
     "base_uri": "https://localhost:8080/",
     "height": 102
    },
    "colab_type": "code",
    "id": "DL24mF3UFeDm",
    "outputId": "9a7cce52-b822-435c-ac4b-c7f413c5b781"
   },
   "outputs": [
    {
     "name": "stdout",
     "output_type": "stream",
     "text": [
      "Precision: 0.20333388347912196\n",
      "Recall: 0.5940212150433944\n",
      "F1: 0.30296323619820487\n",
      "Log Loss: 0.2114422917643186\n",
      "ROC AUC: 0.8872699616370663\n"
     ]
    }
   ],
   "source": [
    "X_train_mi = pd.DataFrame(X_train_balanced, columns=X.columns)[mi_features]\n",
    "X_test_mi = pd.DataFrame(X_test, columns=X.columns)[mi_features]\n",
    "\n",
    "mi_clf = xgb_fit_predict(X_train_mi, y_train_balanced, X_test_mi, y_test)"
   ]
  },
  {
   "cell_type": "markdown",
   "metadata": {},
   "source": [
    "Отбор лучших 30 признаков в данном случае не дал значимого прироста $F1$ и немного уменьшил разброс точности и полноты по сравнению с показателями качества базового классификатора."
   ]
  },
  {
   "cell_type": "markdown",
   "metadata": {},
   "source": [
    "**RFE (Recursive Feature Elimination)**"
   ]
  },
  {
   "cell_type": "code",
   "execution_count": 0,
   "metadata": {
    "colab": {
     "base_uri": "https://localhost:8080/",
     "height": 51
    },
    "colab_type": "code",
    "id": "bLALU1tmKnAv",
    "outputId": "a805f8b3-ff1f-44bd-a3d4-2d62542c0d48"
   },
   "outputs": [
    {
     "name": "stdout",
     "output_type": "stream",
     "text": [
      "CPU times: user 32min 8s, sys: 6.63 s, total: 32min 15s\n",
      "Wall time: 16min 57s\n"
     ]
    }
   ],
   "source": [
    "%%time\n",
    "STEP = 5\n",
    "\n",
    "selector = RFECV(estimator=base_clf, step=STEP, cv=StratifiedKFold(2), scoring='f1')\n",
    "selector.fit(X_train_balanced, y_train_balanced)\n",
    "\n",
    "rfecv_features = X.columns[selector.support_]"
   ]
  },
  {
   "cell_type": "code",
   "execution_count": 0,
   "metadata": {
    "colab": {
     "base_uri": "https://localhost:8080/",
     "height": 34
    },
    "colab_type": "code",
    "id": "ovQ8z_ToKnNT",
    "outputId": "31fd1b61-7731-405a-9939-1ca74a12ed52"
   },
   "outputs": [
    {
     "data": {
      "text/plain": [
       "45"
      ]
     },
     "execution_count": 70,
     "metadata": {
      "tags": []
     },
     "output_type": "execute_result"
    }
   ],
   "source": [
    "selector.n_features_"
   ]
  },
  {
   "cell_type": "markdown",
   "metadata": {},
   "source": [
    "т.е. отобраны 45 признаков."
   ]
  },
  {
   "cell_type": "code",
   "execution_count": 0,
   "metadata": {
    "colab": {
     "base_uri": "https://localhost:8080/",
     "height": 102
    },
    "colab_type": "code",
    "id": "eN1ytqMXPMJO",
    "outputId": "d9cf6a31-065b-4582-98f7-345b0ea88f3d"
   },
   "outputs": [
    {
     "name": "stdout",
     "output_type": "stream",
     "text": [
      "Precision: 0.20056202328382175\n",
      "Recall: 0.6022179363548699\n",
      "F1: 0.3009094741914112\n",
      "Log Loss: 0.2076757688243681\n",
      "ROC AUC: 0.8903300220740039\n"
     ]
    }
   ],
   "source": [
    "X_train_rfecv = pd.DataFrame(X_train_balanced, columns=X.columns)[rfecv_features]\n",
    "X_test_rfecv = pd.DataFrame(X_test, columns=X.columns)[rfecv_features]\n",
    "\n",
    "rfecv_clf = xgb_fit_predict(X_train_rfecv, y_train_balanced, X_test_rfecv, y_test)"
   ]
  },
  {
   "cell_type": "markdown",
   "metadata": {},
   "source": [
    "Рекурсивный отбор признаков также ощутимо не улучшил показатели качества базового классификатора."
   ]
  },
  {
   "cell_type": "markdown",
   "metadata": {},
   "source": [
    "**Permutation Importance (PI)**"
   ]
  },
  {
   "cell_type": "code",
   "execution_count": 0,
   "metadata": {
    "colab": {},
    "colab_type": "code",
    "id": "_zcbIg9T9AeB"
   },
   "outputs": [],
   "source": [
    "#!pip install eli5\n",
    "from eli5.sklearn import PermutationImportance"
   ]
  },
  {
   "cell_type": "code",
   "execution_count": 0,
   "metadata": {
    "colab": {
     "base_uri": "https://localhost:8080/",
     "height": 51
    },
    "colab_type": "code",
    "id": "twywkwXVSnE4",
    "outputId": "f1d86734-3697-4647-9007-bbbb296835bf"
   },
   "outputs": [
    {
     "name": "stdout",
     "output_type": "stream",
     "text": [
      "CPU times: user 14min 20s, sys: 2.3 s, total: 14min 22s\n",
      "Wall time: 8min 11s\n"
     ]
    }
   ],
   "source": [
    "%%time\n",
    "perm = PermutationImportance(base_clf, random_state=42).fit(X_train_balanced, y_train_balanced)\n",
    "\n",
    "res = pd.DataFrame(X.columns, columns=['feature'])\n",
    "res['score'] = perm.feature_importances_\n",
    "res['std'] = perm.feature_importances_std_\n",
    "res = res.sort_values(by='score', ascending=False).reset_index(drop=True)"
   ]
  },
  {
   "cell_type": "code",
   "execution_count": 0,
   "metadata": {
    "colab": {
     "base_uri": "https://localhost:8080/",
     "height": 34
    },
    "colab_type": "code",
    "id": "Ka8muTWCS3ko",
    "outputId": "b22b2f01-9835-4f7c-fd87-350ffddfb41d"
   },
   "outputs": [
    {
     "data": {
      "text/plain": [
       "37"
      ]
     },
     "execution_count": 69,
     "metadata": {
      "tags": []
     },
     "output_type": "execute_result"
    }
   ],
   "source": [
    "perm_features = res.loc[res['score'] > 0]['feature']\n",
    "perm_features.shape[0]"
   ]
  },
  {
   "cell_type": "markdown",
   "metadata": {},
   "source": [
    "т.е. отобраны 37 признаков."
   ]
  },
  {
   "cell_type": "code",
   "execution_count": 0,
   "metadata": {
    "colab": {
     "base_uri": "https://localhost:8080/",
     "height": 102
    },
    "colab_type": "code",
    "id": "SRKV63-fSnSC",
    "outputId": "3707700c-cb11-4616-ba40-6264273ee44c"
   },
   "outputs": [
    {
     "name": "stdout",
     "output_type": "stream",
     "text": [
      "Precision: 0.1897167160325055\n",
      "Recall: 0.6022179363548699\n",
      "F1: 0.2885359514871499\n",
      "Log Loss: 0.21675767345796745\n",
      "ROC AUC: 0.8883485564985474\n"
     ]
    }
   ],
   "source": [
    "X_train_perm = pd.DataFrame(X_train_balanced, columns=X.columns)[perm_features]\n",
    "X_test_perm = pd.DataFrame(X_test, columns=X.columns)[perm_features]\n",
    "\n",
    "perm_clf = xgb_fit_predict(X_train_perm, y_train_balanced, X_test_perm, y_test)"
   ]
  },
  {
   "cell_type": "markdown",
   "metadata": {},
   "source": [
    "Перемешивание значений в столбцах в данном случае снизило метрику $F1$, однако несколько сместило размах между точностью и полнотой."
   ]
  },
  {
   "cell_type": "markdown",
   "metadata": {},
   "source": [
    "**Вывод**: следует выбирать такой метод отбора признаков, который не только обеспечивает повышение целевой метрики качества классификатора, но и отбирает меньшее число признаков и в случае необходимости дает возможность хорошего trade-off'а между полнотой и точностью.\n",
    "\n",
    "В данном случае отбор, основанный на взаимной информации, выглядит предпочтительнее."
   ]
  },
  {
   "cell_type": "markdown",
   "metadata": {},
   "source": [
    "## Задание 2"
   ]
  },
  {
   "cell_type": "markdown",
   "metadata": {},
   "source": [
    "***Обучите любые две другие модели для предсказания оттока для любом из отобранных множеств признаков и сравните качество с уже полученными.***"
   ]
  },
  {
   "cell_type": "markdown",
   "metadata": {},
   "source": [
    "Обучим случайный лес и логистичекую регресию на признаках, отобранных рекурсивным отбором."
   ]
  },
  {
   "cell_type": "code",
   "execution_count": 0,
   "metadata": {
    "colab": {},
    "colab_type": "code",
    "id": "6QX5eEcDSnfa"
   },
   "outputs": [],
   "source": [
    "from sklearn.ensemble import RandomForestClassifier\n",
    "from sklearn.linear_model import LogisticRegressionCV"
   ]
  },
  {
   "cell_type": "markdown",
   "metadata": {},
   "source": [
    "**Случайный лес**"
   ]
  },
  {
   "cell_type": "code",
   "execution_count": 0,
   "metadata": {
    "colab": {},
    "colab_type": "code",
    "id": "JyqR2WvTWdCn"
   },
   "outputs": [],
   "source": [
    "def fit_predict(clf, X_train, y_train, X_test, y_test):\n",
    "    clf.fit(X_train, y_train)\n",
    "    predict_proba_test = clf.predict_proba(X_test)\n",
    "    predict_test = clf.predict(X_test)\n",
    "    precision_test, recall_test, f1_test, log_loss_test, roc_auc_test = \\\n",
    "        evaluation(y_test, predict_test, predict_proba_test[:, 1])\n",
    "    return clf"
   ]
  },
  {
   "cell_type": "code",
   "execution_count": 0,
   "metadata": {
    "colab": {
     "base_uri": "https://localhost:8080/",
     "height": 102
    },
    "colab_type": "code",
    "id": "eyxUscXjWdOx",
    "outputId": "236d58b9-9d04-4908-99bf-e0fb1c9dacd4"
   },
   "outputs": [
    {
     "name": "stdout",
     "output_type": "stream",
     "text": [
      "Precision: 0.3310268474951564\n",
      "Recall: 0.28833172613307617\n",
      "F1: 0.3082077051926298\n",
      "Log Loss: 0.12677953346356813\n",
      "ROC AUC: 0.8994313839068268\n"
     ]
    }
   ],
   "source": [
    "rf = fit_predict(RandomForestClassifier(random_state=42, n_jobs=-1),\n",
    "                 X_train_rfecv, y_train_balanced, X_test_rfecv, y_test)"
   ]
  },
  {
   "cell_type": "markdown",
   "metadata": {},
   "source": [
    "Произошёл небольшой прирост качества по $F1$, но значительно и сравнимо с базовым классификатором снизился размах между точностью (0.331) и полнотой (0.288)."
   ]
  },
  {
   "cell_type": "markdown",
   "metadata": {},
   "source": [
    "**Логистическая регрессия**"
   ]
  },
  {
   "cell_type": "code",
   "execution_count": 0,
   "metadata": {
    "colab": {
     "base_uri": "https://localhost:8080/",
     "height": 102
    },
    "colab_type": "code",
    "id": "1WDQcuJ9YLTR",
    "outputId": "66a00742-78f7-4e0b-d494-d5dfd07ee60c"
   },
   "outputs": [
    {
     "name": "stdout",
     "output_type": "stream",
     "text": [
      "Precision: 0.07324953423106856\n",
      "Recall: 0.7487945998071359\n",
      "F1: 0.13344503877467723\n",
      "Log Loss: 0.5318598840888235\n",
      "ROC AUC: 0.8059149466731554\n"
     ]
    }
   ],
   "source": [
    "logit = fit_predict(LogisticRegressionCV(cv=3, scoring='f1', random_state=42, n_jobs=-1),\n",
    "                    X_train_rfecv, y_train_balanced, X_test_rfecv, y_test)"
   ]
  },
  {
   "cell_type": "markdown",
   "metadata": {},
   "source": [
    "Существенно снизилась метрика $F1$, но сильно вырос размах между точностью (0.073) и полнотой (0.748). Конечно, это дает потенциальный trade-off между ними, но это также (и вероятней всего) говорит о невозможности использовать данную реализацию линейного классификатора."
   ]
  },
  {
   "cell_type": "markdown",
   "metadata": {},
   "source": [
    "## Задание 3"
   ]
  },
  {
   "cell_type": "markdown",
   "metadata": {},
   "source": [
    "***Постройте матрицу корреляций и предложите отбор признаков на основании этой матрицы.***"
   ]
  },
  {
   "cell_type": "markdown",
   "metadata": {},
   "source": [
    "Матрица корреляций:"
   ]
  },
  {
   "cell_type": "code",
   "execution_count": 0,
   "metadata": {
    "colab": {},
    "colab_type": "code",
    "id": "FoxZIMM4FKM2"
   },
   "outputs": [],
   "source": [
    "for_corr = pd.DataFrame(X_train_balanced, columns=X.columns)\n",
    "for_corr['is_churned'] = y_train_balanced\n",
    "\n",
    "corr = for_corr.corr(method='pearson')"
   ]
  },
  {
   "cell_type": "markdown",
   "metadata": {},
   "source": [
    "Её визуализация:"
   ]
  },
  {
   "cell_type": "code",
   "execution_count": 0,
   "metadata": {
    "colab": {
     "base_uri": "https://localhost:8080/",
     "height": 1000
    },
    "colab_type": "code",
    "id": "Xgzmex5UFd_s",
    "outputId": "e5382b73-1bfa-4cbd-fb01-3e2d4bd0e0e9"
   },
   "outputs": [
    {
     "data": {
      "image/png": "[encoded data removed]",
      "text/plain": [
       "<Figure size 1152x1152 with 2 Axes>"
      ]
     },
     "metadata": {
      "tags": []
     },
     "output_type": "display_data"
    }
   ],
   "source": [
    "from seaborn import heatmap\n",
    "\n",
    "fig, ax = plt.subplots(figsize=(16, 16))\n",
    "heatmap(corr)\n",
    "plt.show()"
   ]
  },
  {
   "cell_type": "markdown",
   "metadata": {
    "colab": {},
    "colab_type": "code",
    "id": "zmpB28VJFKfw"
   },
   "source": [
    "Визуализация показывает - чем светлее точка вне диагонали, тем сильнее линейная связь признаков, которые соответствуют координатам точки (т.е. ближе к 1 коэффициент корреляции Пирсона).\n",
    "\n",
    "**На основании этого можно перебором исключать один из пары признаков, корреляция которых выше задаеаемого порога коэффициента корреляции**. Наличие высококоррелированных признаков критично для линейных моделей, поскольку может вызвать переобучение. Для методов, основанных на решающих деревьях, их наличие нежелательно в плане излишнего признакового пространства и использования памяти.\n",
    "\n",
    "Перебор можно вести по одной из треугольных частей корреляционной матрицы по всем парам признаков (кроме целевого)."
   ]
  },
  {
   "cell_type": "markdown",
   "metadata": {
    "colab": {},
    "colab_type": "code",
    "id": "ckCwJ9ksFKju"
   },
   "source": [
    "## Задание 3"
   ]
  },
  {
   "cell_type": "markdown",
   "metadata": {},
   "source": [
    "***Как думаете, можно ли производить отбор признаков с помощью IV, а затем обучать модель случайного леса на отфильтрованном датасете? Ответ обоснуйте.***"
   ]
  },
  {
   "cell_type": "markdown",
   "metadata": {},
   "source": [
    "Да, можно, поскольку метод весомости признака пришел из области работы с категориальными данными, а решающие деревья и методы, основанные на них, хорошо работают на данных такого рода. По сути метод кодирует некатегориальное признаковое пространство в категориальное (и по необходимости перекодирует категориальные признаки заново) в зависимости от целевого признака."
   ]
  },
  {
   "cell_type": "markdown",
   "metadata": {},
   "source": [
    " "
   ]
  }
 ],
 "metadata": {
  "colab": {
   "collapsed_sections": [],
   "name": "prod_3.ipynb",
   "provenance": []
  },
  "kernelspec": {
   "display_name": "Python 3",
   "language": "python",
   "name": "python3"
  },
  "language_info": {
   "codemirror_mode": {
    "name": "ipython",
    "version": 3
   },
   "file_extension": ".py",
   "mimetype": "text/x-python",
   "name": "python",
   "nbconvert_exporter": "python",
   "pygments_lexer": "ipython3",
   "version": "3.7.3"
  }
 },
 "nbformat": 4,
 "nbformat_minor": 1
}
