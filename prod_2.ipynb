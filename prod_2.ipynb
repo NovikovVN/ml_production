{
 "cells": [
  {
   "cell_type": "markdown",
   "metadata": {},
   "source": [
    "**1). Напишите функцию, которая возвращает сумму двух вещественных аргументов a и b, а к ней декоратор, который делает так, чтобы возвращаемое значение функцией было по модулю 5.**"
   ]
  },
  {
   "cell_type": "code",
   "execution_count": 1,
   "metadata": {},
   "outputs": [],
   "source": [
    "def my_decorator(function):\n",
    "    def take_args(a, b):\n",
    "        result = function(a, b)\n",
    "        return result % 5\n",
    "    return take_args    \n",
    "\n",
    "@my_decorator    \n",
    "def my_sum(a, b):\n",
    "    return a + b"
   ]
  },
  {
   "cell_type": "code",
   "execution_count": 2,
   "metadata": {},
   "outputs": [
    {
     "data": {
      "text/plain": [
       "2"
      ]
     },
     "execution_count": 2,
     "metadata": {},
     "output_type": "execute_result"
    }
   ],
   "source": [
    "my_sum(10, 2)"
   ]
  },
  {
   "cell_type": "code",
   "execution_count": 3,
   "metadata": {},
   "outputs": [
    {
     "data": {
      "text/plain": [
       "2"
      ]
     },
     "execution_count": 3,
     "metadata": {},
     "output_type": "execute_result"
    }
   ],
   "source": [
    "(10 + 2) % 5"
   ]
  },
  {
   "cell_type": "markdown",
   "metadata": {},
   "source": [
    "**2). Попробуйте описать своими словами основные отличия SMOTE от ADASYN, ознакомившись с документацией к ним.**"
   ]
  },
  {
   "cell_type": "markdown",
   "metadata": {},
   "source": [
    "Как указано в [статье](https://imbalanced-learn.readthedocs.io/en/stable/auto_examples/over-sampling/plot_comparison_over_sampling.html), ключевое отличие SMOTE от ADASYN в том, что:\n",
    " - ADASYN в главную очередь сосредотачивается на граничных объектах, которые трудно классифицировать методом ближайних соседей,\n",
    " - тогда как SMOTE также синтезирует новые объекты в характерных областях каждого из классов - например, с помощью метода опорных векторов или алгоритма кластеризации KMeans.\n",
    " \n",
    "Это хорошо видно на примере:\n",
    "<img src=\"https://imbalanced-learn.readthedocs.io/en/stable/_images/sphx_glr_plot_comparison_over_sampling_005.png\" width=\"600\">\n"
   ]
  },
  {
   "cell_type": "markdown",
   "metadata": {},
   "source": [
    " "
   ]
  }
 ],
 "metadata": {
  "kernelspec": {
   "display_name": "Python 2",
   "language": "python",
   "name": "python2"
  },
  "language_info": {
   "codemirror_mode": {
    "name": "ipython",
    "version": 2
   },
   "file_extension": ".py",
   "mimetype": "text/x-python",
   "name": "python",
   "nbconvert_exporter": "python",
   "pygments_lexer": "ipython2",
   "version": "2.7.15"
  }
 },
 "nbformat": 4,
 "nbformat_minor": 2
}
