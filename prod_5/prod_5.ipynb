{
 "cells": [
  {
   "cell_type": "code",
   "execution_count": 1,
   "metadata": {
    "colab": {
     "base_uri": "https://localhost:8080/",
     "height": 34
    },
    "colab_type": "code",
    "id": "cMxfpL9Np-KI",
    "outputId": "61b75266-8a3c-453b-f96e-90d93c44bd2a"
   },
   "outputs": [
    {
     "name": "stdout",
     "output_type": "stream",
     "text": [
      "Drive already mounted at /content/drive; to attempt to forcibly remount, call drive.mount(\"/content/drive\", force_remount=True).\n"
     ]
    }
   ],
   "source": [
    "from google.colab import drive\n",
    "drive.mount('/content/drive')"
   ]
  },
  {
   "cell_type": "code",
   "execution_count": 0,
   "metadata": {
    "colab": {},
    "colab_type": "code",
    "id": "AwsOgQirC5mI"
   },
   "outputs": [],
   "source": [
    "import os\n",
    "\n",
    "GDRIVE_PATH = '/content/drive/My Drive/'\n",
    "os.chdir(GDRIVE_PATH)"
   ]
  },
  {
   "cell_type": "code",
   "execution_count": 3,
   "metadata": {
    "colab": {
     "base_uri": "https://localhost:8080/",
     "height": 731
    },
    "colab_type": "code",
    "id": "a45_fMuUsnp2",
    "outputId": "45400083-aa34-4efc-8f24-ba922320335d"
   },
   "outputs": [
    {
     "name": "stdout",
     "output_type": "stream",
     "text": [
      "\n",
      "TRAIN DATASET\n",
      "\n",
      "Run time (reading csv files): 0:01:50.119143\n",
      "NO dealing with outliers, missing values and categorical features...\n",
      "Creating dataset...\n",
      "Processing with features: ['pay_amt', 'trans_amt']\n",
      "Run time (calculating features): 0:02:10.230525\n",
      "Processing with features: ['reports_amt']\n",
      "Run time (calculating features): 0:03:23.496679\n",
      "Processing with features: ['sess_with_abusers_amt']\n",
      "Run time (calculating features): 0:07:00.388468\n",
      "Processing with features: ['session_amt', 'disconnect_amt']\n",
      "Run time (calculating features): 0:11:16.966165\n",
      "Processing with features: ['avg_min_ping']\n",
      "Run time (calculating features): 0:15:26.692559\n",
      "Processing with features: ['leavings_rate', 'session_player', 'kd', 'win_rate']\n",
      "Run time (calculating features): 0:19:40.236755\n",
      "Processing with features: ['silver_spent', 'gold_spent']\n",
      "Run time (calculating features): 0:24:04.838475\n",
      "Dataset is successfully built and saved to dataset/, run time \"build_dataset_raw\": 0:24:30.218501\n",
      "\n",
      "TEST DATASET\n",
      "\n",
      "Run time (reading csv files): 0:00:09.602188\n",
      "NO dealing with outliers, missing values and categorical features...\n",
      "Creating dataset...\n",
      "Processing with features: ['pay_amt', 'trans_amt']\n",
      "Run time (calculating features): 0:00:11.356026\n",
      "Processing with features: ['reports_amt']\n",
      "Run time (calculating features): 0:00:17.776893\n",
      "Processing with features: ['sess_with_abusers_amt']\n",
      "Run time (calculating features): 0:00:37.279353\n",
      "Processing with features: ['session_amt', 'disconnect_amt']\n",
      "Run time (calculating features): 0:01:00.767791\n",
      "Processing with features: ['avg_min_ping']\n",
      "Run time (calculating features): 0:01:23.767316\n",
      "Processing with features: ['leavings_rate', 'session_player', 'kd', 'win_rate']\n",
      "Run time (calculating features): 0:01:47.224956\n",
      "Processing with features: ['silver_spent', 'gold_spent']\n",
      "Run time (calculating features): 0:02:11.809113\n",
      "Dataset is successfully built and saved to dataset/, run time \"build_dataset_raw\": 0:02:14.082471\n"
     ]
    }
   ],
   "source": [
    "!python3 build_dataset.py"
   ]
  },
  {
   "cell_type": "code",
   "execution_count": 4,
   "metadata": {
    "colab": {
     "base_uri": "https://localhost:8080/",
     "height": 187
    },
    "colab_type": "code",
    "id": "NXs--0G2CvVb",
    "outputId": "13104e23-634c-407b-abf7-90a94334d0e0"
   },
   "outputs": [
    {
     "name": "stdout",
     "output_type": "stream",
     "text": [
      "\n",
      "TRAIN DATASET\n",
      "\n",
      "Dealing with missing values, outliers, categorical features...\n",
      "Dataset is successfully prepared and saved to dataset/, run time (dealing with bad values): 0:00:27.375095\n",
      "\n",
      "TEST DATASET\n",
      "\n",
      "Dealing with missing values, outliers, categorical features...\n",
      "Dataset is successfully prepared and saved to dataset/, run time (dealing with bad values): 0:00:02.583019\n"
     ]
    }
   ],
   "source": [
    "!python3 -W ignore prepare_dataset.py"
   ]
  },
  {
   "cell_type": "code",
   "execution_count": 5,
   "metadata": {
    "colab": {
     "base_uri": "https://localhost:8080/",
     "height": 578
    },
    "colab_type": "code",
    "id": "MV5sBN2-qx0v",
    "outputId": "f7fadfa1-fa1c-4844-a103-f262f6985d2d"
   },
   "outputs": [
    {
     "name": "stdout",
     "output_type": "stream",
     "text": [
      "Splitting data on train and valid: 0:00:00.467330\n",
      "Train WOE transformation...\n",
      "Run time (calculating IV): 0:00:32.209642\n",
      "Run time (gathering WOE by vars): 0:00:32.407855\n",
      "Run time (encoding vars with WOE): 0:08:27.008640\n",
      "Run time (oversampling with SMOTE): 0:00:05.854971\n",
      "Fitting LogisticRegressionCV...\n",
      "Run time (fitting and CV model): 0:17:46.599878\n",
      "Valid WOE transformation...\n",
      "Run time (encoding vars with WOE): 0:00:55.982911\n",
      "\n",
      "VALID METRICS\n",
      "\n",
      "Precision: 0.18585108461989447\n",
      "Recall: 0.6876355748373102\n",
      "F1: 0.2926153846153846\n",
      "Log Loss: 0.25429404693635416\n",
      "ROC AUC: 0.896996122993072\n",
      "\n",
      "Threshold = 0.8\n",
      "\n",
      "CLASSIFICATION REPORT WITH THRESHOLD\n",
      "\n",
      "              precision    recall  f1-score   support\n",
      "\n",
      "           0       0.98      0.97      0.98     45565\n",
      "           1       0.32      0.43      0.37      1383\n",
      "\n",
      "    accuracy                           0.96     46948\n",
      "   macro avg       0.65      0.70      0.67     46948\n",
      "weighted avg       0.96      0.96      0.96     46948\n",
      "\n",
      "Run time (saving logit, woe_transformer and threshold): 0:18:42.835982\n"
     ]
    }
   ],
   "source": [
    "!python3 -W ignore train_model.py"
   ]
  },
  {
   "cell_type": "code",
   "execution_count": 6,
   "metadata": {
    "colab": {
     "base_uri": "https://localhost:8080/",
     "height": 102
    },
    "colab_type": "code",
    "id": "Zk09j42BrV1s",
    "outputId": "d2f9879d-387e-43f2-ff1d-246cafe627b1"
   },
   "outputs": [
    {
     "name": "stdout",
     "output_type": "stream",
     "text": [
      "Run time (loading logit, woe_transformer and threshold): 0:00:00.003013\n",
      "Test WOE transformation...\n",
      "Run time (encoding vars with WOE): 0:00:54.272238\n",
      "Taking predictions...\n",
      "Predictions are successfully saved to /content/drive/My Drive/dataset/predictions.csv\n"
     ]
    }
   ],
   "source": [
    "!python3 -W ignore make_prediction.py"
   ]
  },
  {
   "cell_type": "markdown",
   "metadata": {
    "colab": {},
    "colab_type": "code",
    "id": "BCwNUPvBSYIL"
   },
   "source": [
    " "
   ]
  }
 ],
 "metadata": {
  "accelerator": "GPU",
  "colab": {
   "collapsed_sections": [],
   "name": "prod_5.ipynb",
   "provenance": []
  },
  "kernelspec": {
   "display_name": "Python 3",
   "language": "python",
   "name": "python3"
  },
  "language_info": {
   "codemirror_mode": {
    "name": "ipython",
    "version": 3
   },
   "file_extension": ".py",
   "mimetype": "text/x-python",
   "name": "python",
   "nbconvert_exporter": "python",
   "pygments_lexer": "ipython3",
   "version": "3.7.3"
  }
 },
 "nbformat": 4,
 "nbformat_minor": 1
}
